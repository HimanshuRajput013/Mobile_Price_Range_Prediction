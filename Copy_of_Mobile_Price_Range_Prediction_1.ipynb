{
  "nbformat": 4,
  "nbformat_minor": 0,
  "metadata": {
    "colab": {
      "private_outputs": true,
      "provenance": [],
      "collapsed_sections": [
        "w6K7xa23Elo4",
        "mDgbUHAGgjLW",
        "H0kj-8xxnORC"
      ],
      "include_colab_link": true
    },
    "kernelspec": {
      "name": "python3",
      "display_name": "Python 3"
    },
    "language_info": {
      "name": "python"
    }
  },
  "cells": [
    {
      "cell_type": "markdown",
      "metadata": {
        "id": "view-in-github",
        "colab_type": "text"
      },
      "source": [
        "<a href=\"https://colab.research.google.com/github/HimanshuRajput013/Mobile_Price_Range_Prediction/blob/main/Copy_of_Mobile_Price_Range_Prediction_1.ipynb\" target=\"_parent\"><img src=\"https://colab.research.google.com/assets/colab-badge.svg\" alt=\"Open In Colab\"/></a>"
      ]
    },
    {
      "cell_type": "markdown",
      "source": [
        "### **Project Name**    - **`Mobile_Price_Range_Prediction**\n",
        "\n"
      ],
      "metadata": {
        "id": "vncDsAP0Gaoa"
      }
    },
    {
      "cell_type": "markdown",
      "source": [
        "##### **Project Type**    - Classification\n",
        "##### **Contribution**    - Individual\n"
      ],
      "metadata": {
        "id": "beRrZCGUAJYm"
      }
    },
    {
      "cell_type": "markdown",
      "source": [
        "# **Project Summary -**"
      ],
      "metadata": {
        "id": "FJNUwmbgGyua"
      }
    },
    {
      "cell_type": "markdown",
      "source": [
        "In this colab, we have implemented a Mobile Price Prediction using different Machine Learning Algorithms. This project will classify the price range of the mobile price. The price ranges from 0-3. We’ll discuss the price range in the dataset. It's a classification problem. Now we have trained a mobile price classification using different ML algorithms. This model classifies the range of the mobile based on the different parameters like from camera, touch screen, cores, battery, clock speed, internal memory, battery capacity, etc. After training the model using different algorithms, we compared all the models.."
      ],
      "metadata": {
        "id": "F6v_1wHtG2nS"
      }
    },
    {
      "cell_type": "markdown",
      "source": [
        "# **GitHub Link -**"
      ],
      "metadata": {
        "id": "w6K7xa23Elo4"
      }
    },
    {
      "cell_type": "markdown",
      "source": [
        "Provide your GitHub Link here."
      ],
      "metadata": {
        "id": "h1o69JH3Eqqn"
      }
    },
    {
      "cell_type": "markdown",
      "source": [
        "# **Problem Statement**\n"
      ],
      "metadata": {
        "id": "yQaldy8SH6Dl"
      }
    },
    {
      "cell_type": "markdown",
      "source": [
        "**Mobile phones come in all sorts of prices, features, specifications and all. Price estimation and prediction is an important part of consumer strategy. Deciding on the correct price of a product is very important for the market success of a product. A new product that has to be launched, must have the correct price so that consumers find it appropriate to buy the product.\n",
        "\n",
        "The data contains information regarding mobile phone features, specifications etc and their price range. The various features and information can be used to predict the price range of a mobile phone..**"
      ],
      "metadata": {
        "id": "DpeJGUA3kjGy"
      }
    },
    {
      "cell_type": "markdown",
      "source": [
        "# **General Guidelines** : -  "
      ],
      "metadata": {
        "id": "mDgbUHAGgjLW"
      }
    },
    {
      "cell_type": "markdown",
      "source": [
        "1.   Well-structured, formatted, and commented code is required.\n",
        "2.   Exception Handling, Production Grade Code & Deployment Ready Code will be a plus. Those students will be awarded some additional credits.\n",
        "     \n",
        "     The additional credits will have advantages over other students during Star Student selection.\n",
        "       \n",
        "             [ Note: - Deployment Ready Code is defined as, the whole .ipynb notebook should be executable in one go\n",
        "                       without a single error logged. ]\n",
        "\n",
        "3.   Each and every logic should have proper comments.\n",
        "4. You may add as many number of charts you want. Make Sure for each and every chart the following format should be answered.\n",
        "        \n",
        "\n",
        "```\n",
        "# Chart visualization code\n",
        "```\n",
        "            \n",
        "\n",
        "*   Why did you pick the specific chart?\n",
        "*   What is/are the insight(s) found from the chart?\n",
        "* Will the gained insights help creating a positive business impact?\n",
        "Are there any insights that lead to negative growth? Justify with specific reason.\n",
        "\n",
        "5. You have to create at least 15 logical & meaningful charts having important insights.\n",
        "\n",
        "\n",
        "[ Hints : - Do the Vizualization in  a structured way while following \"UBM\" Rule.\n",
        "\n",
        "U - Univariate Analysis,\n",
        "\n",
        "B - Bivariate Analysis (Numerical - Categorical, Numerical - Numerical, Categorical - Categorical)\n",
        "\n",
        "M - Multivariate Analysis\n",
        " ]\n",
        "\n",
        "\n",
        "\n",
        "\n",
        "\n",
        "6. You may add more ml algorithms for model creation. Make sure for each and every algorithm, the following format should be answered.\n",
        "\n",
        "\n",
        "*   Explain the ML Model used and it's performance using Evaluation metric Score Chart.\n",
        "\n",
        "\n",
        "*   Cross- Validation & Hyperparameter Tuning\n",
        "\n",
        "*   Have you seen any improvement? Note down the improvement with updates Evaluation metric Score Chart.\n",
        "\n",
        "*   Explain each evaluation metric's indication towards business and the business impact pf the ML model used.\n",
        "\n",
        "\n",
        "\n",
        "\n",
        "\n",
        "\n",
        "\n",
        "\n",
        "\n",
        "\n",
        "\n",
        "\n",
        "\n",
        "\n",
        "\n",
        "\n",
        "\n",
        "\n"
      ],
      "metadata": {
        "id": "ZrxVaUj-hHfC"
      }
    },
    {
      "cell_type": "markdown",
      "source": [
        "# ***Let's Begin !***"
      ],
      "metadata": {
        "id": "O_i_v8NEhb9l"
      }
    },
    {
      "cell_type": "markdown",
      "source": [
        "## ***1. Know Your Data***"
      ],
      "metadata": {
        "id": "HhfV-JJviCcP"
      }
    },
    {
      "cell_type": "markdown",
      "source": [
        "### Import Libraries"
      ],
      "metadata": {
        "id": "Y3lxredqlCYt"
      }
    },
    {
      "cell_type": "code",
      "source": [
        "# Import Libraries\n",
        "# Import Libraries\n",
        "import pandas as pd\n",
        "import numpy as np\n",
        "import matplotlib.pyplot as plt\n",
        "import seaborn as sns\n",
        "\n",
        "from sklearn.model_selection import train_test_split, GridSearchCV\n",
        "\n",
        "from sklearn.tree import DecisionTreeClassifier\n",
        "from sklearn.ensemble import RandomForestClassifier, GradientBoostingClassifier\n",
        "from sklearn.naive_bayes import GaussianNB\n",
        "from sklearn.neighbors import KNeighborsClassifier\n",
        "from sklearn import svm\n",
        "import xgboost as xgb\n",
        "from sklearn.preprocessing import MinMaxScaler\n",
        "\n",
        "\n",
        "from sklearn.metrics import accuracy_score, classification_report, confusion_matrix\n",
        "\n",
        "import warnings\n",
        "warnings.filterwarnings('ignore')\n",
        "\n",
        "%matplotlib inline"
      ],
      "metadata": {
        "id": "M8Vqi-pPk-HR"
      },
      "execution_count": null,
      "outputs": []
    },
    {
      "cell_type": "markdown",
      "source": [
        "### Dataset Loading"
      ],
      "metadata": {
        "id": "3RnN4peoiCZX"
      }
    },
    {
      "cell_type": "code",
      "source": [
        "# Load Dataset\n",
        "url = 'https://drive.google.com/file/d/14POIAwdkuHscsXFoWqeUMV9rc-C2tGj-/view?usp=drive_link'\n",
        "url = 'https://drive.google.com/uc?id=' + url.split('/')[-2]\n"
      ],
      "metadata": {
        "id": "4CkvbW_SlZ_R"
      },
      "execution_count": null,
      "outputs": []
    },
    {
      "cell_type": "code",
      "source": [
        "\n",
        "df = pd.read_csv(url,encoding ='latin')\n",
        "\n",
        "# Set the option to display all columns\n",
        "\n",
        "pd.pandas.set_option('display.max_columns',None)"
      ],
      "metadata": {
        "id": "ubgn84vsDccq"
      },
      "execution_count": null,
      "outputs": []
    },
    {
      "cell_type": "markdown",
      "source": [
        "### Dataset First View"
      ],
      "metadata": {
        "id": "x71ZqKXriCWQ"
      }
    },
    {
      "cell_type": "code",
      "source": [
        "# Dataset First Look\n",
        "df.head()"
      ],
      "metadata": {
        "id": "LWNFOSvLl09H"
      },
      "execution_count": null,
      "outputs": []
    },
    {
      "cell_type": "code",
      "source": [
        "df.tail()"
      ],
      "metadata": {
        "id": "7s2BtssC5QgN"
      },
      "execution_count": null,
      "outputs": []
    },
    {
      "cell_type": "code",
      "source": [
        "df.describe(include='all')"
      ],
      "metadata": {
        "id": "6GjVIXfo5cQM"
      },
      "execution_count": null,
      "outputs": []
    },
    {
      "cell_type": "markdown",
      "source": [
        "### Dataset Rows & Columns count"
      ],
      "metadata": {
        "id": "7hBIi_osiCS2"
      }
    },
    {
      "cell_type": "code",
      "source": [
        "# Dataset Rows & Columns count\n",
        "df.shape"
      ],
      "metadata": {
        "id": "Kllu7SJgmLij"
      },
      "execution_count": null,
      "outputs": []
    },
    {
      "cell_type": "markdown",
      "source": [
        "### Dataset Information"
      ],
      "metadata": {
        "id": "JlHwYmJAmNHm"
      }
    },
    {
      "cell_type": "code",
      "source": [
        "# Dataset Info\n",
        "df.info()"
      ],
      "metadata": {
        "id": "e9hRXRi6meOf"
      },
      "execution_count": null,
      "outputs": []
    },
    {
      "cell_type": "markdown",
      "source": [
        "#### Duplicate Values"
      ],
      "metadata": {
        "id": "35m5QtbWiB9F"
      }
    },
    {
      "cell_type": "code",
      "source": [
        "# Dataset Duplicate Value Count\n",
        "df.duplicated().sum()"
      ],
      "metadata": {
        "id": "1sLdpKYkmox0"
      },
      "execution_count": null,
      "outputs": []
    },
    {
      "cell_type": "markdown",
      "source": [
        "There's no null and duplicate values."
      ],
      "metadata": {
        "id": "nXm8-DJy50ji"
      }
    },
    {
      "cell_type": "markdown",
      "source": [
        "#### Missing Values/Null Values"
      ],
      "metadata": {
        "id": "PoPl-ycgm1ru"
      }
    },
    {
      "cell_type": "code",
      "source": [
        "# Missing Values/Null Values Count\n",
        "df.nunique()"
      ],
      "metadata": {
        "id": "GgHWkxvamxVg"
      },
      "execution_count": null,
      "outputs": []
    },
    {
      "cell_type": "markdown",
      "source": [
        "### What did you know about your dataset?"
      ],
      "metadata": {
        "id": "H0kj-8xxnORC"
      }
    },
    {
      "cell_type": "markdown",
      "source": [
        "Answer Here"
      ],
      "metadata": {
        "id": "gfoNAAC-nUe_"
      }
    },
    {
      "cell_type": "markdown",
      "source": [
        "## ***2. Understanding Your Variables***"
      ],
      "metadata": {
        "id": "nA9Y7ga8ng1Z"
      }
    },
    {
      "cell_type": "code",
      "source": [
        "# Dataset Columns\n",
        "df.columns"
      ],
      "metadata": {
        "id": "j7xfkqrt5Ag5"
      },
      "execution_count": null,
      "outputs": []
    },
    {
      "cell_type": "markdown",
      "source": [
        "![image.png](data:image/png;base64,iVBORw0KGgoAAAANSUhEUgAAAj8AAAKzCAYAAADx3myUAAAgAElEQVR4nOzdX2gbWZ4H+m/fzsu+JVNFJe69c5sQkGsr7gTtdDMgGz2MQ+MnBUSbdZu51yDQ28AFz4ip936YGkQbLsybGIHv7XUPOAiiJ9PEw6VwBEtn1jgRtWVBCH2HbcdF1SZv+7KN70NVSVVSSVWS/8h2fT/QtFV/zvkdRTr66ZxTpQ/a7fYJiIiIiFLiBgDcv39/2nEQUcosLy9je3t72mEQUcqsrKzgf5l2EEREREQXickPERERpQqTHyIiIkqVG+GH3+NPK19jb8jBC7/9C37zWRtblU3sI4u16irmElXjl7uA3/7lN/hs4mOI6Hoa0fd8/CU2/vgYH110SJHOqp+apB8lorPCkR8iutx++BbrK7/H0x+nHcjpfP+nFfzp+2lHQUTAwMiPb9S3mjmsVqtYPcegiCitPsaXG3/E4+4wz494+vt1fPvDD/i28T0e/2baY8Kf4Td/+Qt+M9Y5fhuAhV/629iPEk3TkORnlOjh2h+f/h7r3/7QPcqdIhtVTq9DcI//bURVW6hs7gc2cIiYKF0+wuP/80u01r/FD3v/hu9/81n3S1lsn/P9n7DydXAirf9LnYXdjSp2jvzHM1iqrGNRAnrTWx9jYQHY2/sBbmL2Bf6+Hpz2CkyD/Rb4ulufvz/cz+19vYK9j7/Exh/v4f+N6Eet3Q1UewFhZqmCdTcghKbcNn6OJ+vfwi22P2EkojhDpr328PXKClaC/40Yr/3+TyuhTghw3+S/HzpOHe4Q3OP75vutXWyEEh8A2Mfmxi6soZEQ0bXz0WfIfQwAf8ePXpcS2+f8+BS//7p/BdEevv79U7hH9Cc+AHCEneoW2qFzfvASHwD4OT4ammDsBRKf/rqSaW9VQokPABztVFHZavcduYevu4mPG+O3/9d4dRGl3QQjP31+fIone+hblOh9Q/m2ge8fR0yf/fg9Wj8AoW8s/d/SrGMcAcDMEirri5D6yyCilPkBf/9PAEjQ5/zn393kYNhiaesVDo6A4Ghye6uCzf19fLf7CHOLvUM//nIDf+wOq3yPfxsSXe84L5YfvkXj+8f4zR83AH/aqzs61ZfQWLv4bh8IjT5Zu9io7uBofxNbD6pYnYuoy+83f/g7/hO4JIvCiS6/Cdb89PE7mR++xfrKt307vW9q/e9I/5yFL3pDtZ/9EgvY643+SLcxA+DoaAfVyo63MTgsTUTp8jF+/o9I1uf848/xMYAfQsf0vmxZrw7cL1fZB90pp7nVKqrdRTg/dM/JfZYkpVjAF73ODL9cAPb2gL//mHA8xv+yl/28179Ji/g8u4PNfeDtsYXefH8gpv5+k4gSOeervfxvahOQFrFeWcJMaOMRdqob2OW8F1GK/Cf+/gMwetrJ5/U5Hz3GHze+xMd9+75dv/pXjSV7HoholNNPe/nfsMYZLfLP2XuCp8XP8Pgj4MenTwa/vUiLWK/2xp/dYekjHFsA58GI0uH7P3nrARd+6fYvSfucjx7jj395HChnBV/vucnR408eYmbnCEf7L9FencMcAouNs2uBEaCk9vDkaRGfedNe/+Z1Zj/3spSPfg7gh6En90a697/D7qO57rSXPxX28BMppgAiGsfpk5+PHuOLhW/x9d4evl7pS1+Gzbd/9BlyH3+LH374Ad+ur6B/4BpAxJVevhncZuJDdE0N6xM+xpdFL81J0ucMXOnVK+fn/whA+gQPZ3ZwdLSPzUqwn5nB0qM5AOPfkOeHb9cRmoX7+EsU+zKz4NVeId0priPsVCvYCe4LToUR0Zk4k2mvz37zF/x2oW/jyLuyfoTHf9zAl4Ex6YXf/hahIuZWUV3L9p3HNT9EqfPxl9j4S/hS7tg+57Pf4C+DBwQuCZewuF7BUmhe/TT9ywJ+G6pvAb8N9H+f/TKwz1uc3G9utYpKOCDMLFVQXeXNPYjO2gftdvvk/v37046DiFJmeXkZ29vb0w7jlPizPERXzcrKCn/egoiIiNKFyQ8RERGlyukXPBMRpdYkv/VFRNPGkR8iIiJKFSY/RERElCpMfoiIiChVmPwQERFRqjD5ISIiolRh8kNERESp8kG73T756quvph0HEaXMTz/9hA8//HDaYRBRCvHnLYhoKq7Hz1sQ0VXDn7cgIiKi1GHyQ0RERKnC5IeIiIhSpe+3vRy06jXo1uCBSlFFITNGyU4HHWSQEYY8JiLqYt9zIZwW6jUTcrmEnIDJn5v3+3iy/Rr3lr9A9uZ5BDqc06qjpluQ8mWUckJwR7htRCNE/rDpwIuq04TW0ICknVD3RZhBJuoxEVEE9j3nTMihpObcv0/z3NzM4oty9qyjS8DBoWlBURQY+nN0cgX+u9JEkk17ZeaRlwDbds45HCKiAPY9FNR5Dt1SIM+LkGDA7Ew7ILqqIkd+EnFaqNd0BEeppXwZpdnD7narpsFUFMAweo+73+z6h7kVFNVC4NuaDTlvQ9ctAAoUxYCBItTA1z+nVUfNXghtGx6rCTkvQtcNP1iUSzn0vmP2xaP4dbnbTTnwjbTThNYwQsPxnaaGBsLnJG1bdx8Rxbv0fc+wviQm/pyQrK8adX5c/X75RRlmQw89Nwt2LdCHxbQzOO0F7+9H9/D62Qu88w6596iMX92NenoGY+i2IfBv6IYeHvHrmAYg5SEIs5AlHbrZQSHTF9thE5r/3EWUQQQkTX46z6Ejj3L3zdVBs6ZDLKoodd9TddS8YchSGeG513mxby7We3OKRaheAU6rjlq9FXiTG9DtIlTVzy4Ao2GiU/CHaL3hz4Wkr2oLui6iqKrIePXXmmI4WenG4z7Wmm5HMCtL0M1DODk3to5pQJIk99toxu1MbRteLBO0jYiiXbm+p7/8DppaA03Z/wAeHb+7aVRfFXd+XP0eITf4XHUUYOI+9h1e/A1YLpdxE8D7/SfYfvZX3C3/ClH5D2BB35NRVlUI3TbUoJn58LZGE3L3y2EHbu4zCwGC2y/rwXi9ck15RBlErshpL0uvQdO03n8NA7BsdAeeHQHzavjNJMzKkGAj0ei0N3RZDBQg5BagWDqeB4YxFTlQQUaGEhzmdA5hWgrkMV7RStF/AwjIPc5DMvbQcqLiEZBbUADDRMdvW7f9DmxbgiyLsMxDd1swlknaRkQArkHf4xzCtCTk5/2dGRSC8SaMf2hfFXd+XP2jnLKPvfeLLPy1zzfv3sMt/Bfevx9+vLLQG81y2xC1LfC8dEwYULDgJcLu/sGpr5FlEHmSLXj2vj006qL77UgQ3BeXN/0TOBNygkod2wZgoaEZA/sk24FbuAQxtGI/g/m8hJo3zOkcmrCUhTGy+b7yBBEirN6bQhIRqk4QIcGEO7jjDrGanQIywiFMyHicE2HrptspH5qwJNn9pjFR24gIuAZ9j2PDgoiFYe/vRPGP6KsyMefH1T/SafrYW7h1a5y6ovrA0f1ixzQApdiLJ3Lqi30rJZNwzU8GhaICo+F+AxO8DsmAhHxZ9S6ZdOdxExtYcxMwJEsXZmVIuolOQYA91pTXaQkQRbhvMtmGJcoQIECUDJideYimBUl+7CY/wERtI6Io163vOW38Z9D+EabXx8Zxp7yABgbyVqt/6oso3mQLnjsmjIFFeDYsING3L0EUAcvEoZMb734M/ghMS4RtKRjvfel9c+quCbRhwyujg8F4+r5BZWQF2LPRMg0ocgEAvLVAz6FYEuTHwunaRkTxLnvfExoxnjT+UX1VzPlx9Z9VOy+Y09qDEXVxiLf42x2Vn1Z0dBUlvMOzg9aeASk/33vhWSYO/W9JTgv14BBs/5RS/+PMPPKSBf1pq/dFq9OEptXdee2h3EVuhq7DUuSxM32j0UTHb8/TQBl+PN1Jf7e9CNaRkaFYOnSjN6wqiCJgGDAkGbP+G2/ithHRoCvW9wizkPv7kroGrRlYmDIqfs/Qviq2/Qnq7x7b99yM084L5S68RlQ8wixkCTB4zTuNKXLkx9Jr0PTwttBcfKaAoqKhUdPgHiYhXy5CrDW8bywZyArQaGgwvMss+x/n3EsNUOtWJCHfvevo8IDdYVkL4tgLhiXk80BD09yHoctPhW48/u6By1PhtsGwg4mOu0DQlmcDQ+jCxG0jSrur3/fE9CWx8XvbhvVVsecn6ct8g89N8nZeIOcQpoUhU3D+VV97aMlJxv6IXB+02+2T+/fvTzuO5Lz7cCyMc+kib3tOdOksLy9je3t72mEkN0nfM1EdU+6rLqKdRFO0srJy9X7Y1Dk0geAQOBHRBUhL35OWdlK6TX6H54vm39VUyqNc6v8xu/DdTsMk5IscDiWiCQ3re66btLSTCFdx2ouIroUrN+1FRNfClZz2IiIiIjoNJj9ERESUKkx+iIiIKFWY/BAREVGqMPkhIiKiVGHyQ0RERKnC5IeIiIhShckPERERpQqTHyIiIkqVD9rt9slXX3017TiIKGV++uknfPjhh9MOg4hSiD9vQURTwZ+3IKJp4M9bEBERUeow+SEiIqJUYfJDREREqXIj/NBBq16Dbg0eqBRVFDL+YS3Uaybkcgk54dxjJKJrr4Om1gCC/Ux3VxPurgL6d51aXF921n2d00EHGWTOqt8MlndV++Wzfk6IErgRtVHKl1EKvns6TWgNLbpjIiKieN3kJHM2SdxZlzcN16ENdCUlm/bKzCMvAbbtnHM4REREROcrcuRnLFFDrQPb+qfTlPMZwiai689poV7TEZydD41WR+xX4katD5vQdMMvDOVSDgOzMKfp6wIxWTUNZjfevuOVItRQoEP2R5U3G9GW2LaPqN9poV6zIedt6LqFyH7bb39RhtnoPefhOsdow5War6OrLFny03kOHXmUJ3phei98sQi15L4bnFYdtXoruoMhIhqqg2ZNh1hUUep+RtdR05+jk/OTDBNyWUUplKBoaA5NAizopoyyqkLw+qtaU+xLQpIY3deVyohOlLrHu4+1pp+AjNofUZ7T3xav/kYTcuSXzbj6AcCAbhehqqOeCwv63rA6x2wD0QWJTH4svQZN79+qwAHGT1Y6z6FbCoql3ptHyC1A0Rt43slxDRERdRkNDUbkHsX9nyNg3vuQ9QmzMiTdhO3A+4AXIYYOyKGk5kbWqyz4X8QE5B7nYdb20JrPYPRZfeL6uv7Oc+B4AbkFBXrDRKeQQSZuf2xb+p6bcev3y5PjO+mhdTqTtYHovCVb8OxdidGoi2OP1ji2DcBCQxvs0qTIdyQRpVXkFI13tRcAQBDc/qfThNYI9ikSZAAQclhQtF5/MzCNFFkrQp/vgggRFuwxv+3F9nVRZUlieLMgQkIgkYvbP1hgOPGLE1t+kvJijhm7DUTnL+GanwwKRQVGw55s9GfYHDoR0VjcL2IGJOTLqjfd4051+TIFFWqhd6ybi1zQOsNRfR2vFyG6NM79JoeCKAKWiUO+8YnotDomDCmPshpcdGwj4tZkADIoqCpUtQgFBszOsEJthC5kdWzY446gYMK+rv94x4YVnLaL239a513+RdVBNKaEyY+D1p4BKT8/+M3JGyI2u69uB62ngSstMvPISxb0p63eF59OE5pWR4sJERGNK/hh6rRQD05/dZrQtCZCeU5sMhPsn7z+S1kYXIB72r4uOJ0WPP55p1fengEostvPxu3vL29cceWfhfNuA9GEEi94HlwH5MugUM6jXuudoxSLUBp73n4BOXdJP2rdQiXkubqfiMaVKaCoaGjUNLi9iYR8uQix1nA/QDMFqMUmNE0LnBTX30jIyzZq/jlD1wmdtq/LQFaARkOD4dXhH98NN1S3ELO/r7z5ZE9hT1z5Z2HMNvAKGLogH7Tb7ZP79+9POw4iSpnl5WVsb29POwwiSpmVlRX+sCkRERGlC5MfIiIiShUmP0RERJQqTH6IiIgoVZj8EBERUaow+SEiIqJUYfJDREREqcLkh4iIiFKFyQ8RERGlCpMfIiIiShUmP0RERJQqTH6IiIgoVZj8EBERUarcAIAbN25MOw4iSiH2PUQ0DTcA4H/+53+mHQcRpczy8jK2t7enHQYRpczKygqnvYiIiChdmPwQERFRqjD5ISIiolQZmvw4rTo0TQv8V0fLCR2Aev+2SZ1lWZdBpwlNa6Iz7TiIaHKnfR87HXQuon8cp/+8iL72uvXndDasNtrWtIPoibjUwkGrXoOOPMpqCYK/tVVHrabBLqooZC40RiKiq8VpoV4zIZczOPfuUsihpObOu5bkLls8NH3WLjaqB3hYmcPctGPxDIz8dJpe4lPKdRMfABByJZTzEoy9FpjQExER0VXVN/LTgWkASjGc+PiEXAnDE3pvxMgf1lKKUENDRHH7g2E0oTWM0ceEqm6hXtMRHFFT/BEq/xtYXoSuG+5OqT+564sNCopqIfCNLW5/B02tAbd0Cfm8GB8zEYVdtfdxRLxSvozS7GF3u1XTYObLKOWCPaobhykHtnt9nhIYWe80NTRQhDrvnXbYhOa3Peq5KZfgFpegrx1WVmQbTchFGWaj19b+dk4cj9NCvWZDztvQdQu9f5O4c0a8FiYpM/Dvknh//+tn1Os3yf6Jnqd+FnY3qtg58h9nsVZdxRwAa3cD1R1gqbKORQkA2tiqbOLtUgXri9LIcyPLzq6huurt7Y7s+GUHtq09xMHmDo4AHFUrOEhan7WLjap7XveItSpWz2roqN1un3TZz0/+/Ic/nzy3T+KFjrVPnv/5Dyd/eHro74x5fHjy9A9/OOntDpRlPz/5c3DfWHEEt3lleH//4Q9PTw4TxXZyYj//88kf/vz8xE60323Ln7sBuI979RFRlC+++KL34Mq9j/v6ML88//iYvjRc98nJ4dM/nPz5z38O1O/GG2p74PjhdSXpa0eUNRjokOPPOJ5Qhx/zbxv3WpikzLg4414/iV6/I/YnbfPID8bjk2df/+7kd//6qrfl2dcnv/v62cmx9/jVv/b2B/+OP7d//6uTf/3d7056pz87+fp3X588Oz45CRTQ2zawP6a+oeUF6jyFf/mXfzmJWPAsQowa9hml8xy6paDYTWEF5BYUwDDdxYLOIUxLQn7e359BQY34puFlxsiXx1xX1BezkEOpr3yl6GfJAnKP85CMPXdB3kDsgJBbgGLpeN5Jst+EAQUL3W92GcznJRDRuK7Q+9gRMN8XmzArQ4INO8G6AGFWhmTZ3hICB7YtQZZFWOahu805hGkpkINtX+iNcg2tK2Ffm6iskcefcTzBhsZ9nvjnDHstTFJmXJxxrx8A8a/fEfuTtlke8cHYfoadoyzWAkMj0uLnyB7t4FnbfTz3aAkz+99ht72L7/YDx8ada73CwdEMlh75++ewWj3FKEyCWIE7uB18C0qLWD9NnX0iFjy7L+DMuAmQJIanygQREky3LMeGBRELI8u0oDfc8T5lnOxLyGFB0dDQvOHPyKkyqe9FJ0KEBdsBHNsGYPXOD55lO3CQYL8kh9dHzcqQdDt5G4jS7qq9jwXBPdafog/EKMe11S0csqTD7BSQEQ5hQsbjnAhbN93k59CEFYpHSvalNFFfm7CskcefczyjPk+izgm8FtwTxywzJs641xcyMa/fJK/vcdvcxzp+C+AIm5X9gX0zxxYwJwHSIn69dIDq5g6ya9XuFFPsuTjGEe7g8zP6Xh8f6yI+z1Z6+4NTbGcknPwMvID6ddDU9iCWSziPtfxKUYVsamjstTCfiV53FCVTUKEW/PgacF9fw+ZEIwysHehxWgn2E9GpXa33sb8+SEK+rLprW7y1KMkIEEVANzsoyDYsUYYAAaJkwOzMQzQtSPLjxH0gXYARrx8g/vV76td3EjNLqKwvYlSOYh27q2j2X7axOhdIKEad247aeEoxsc6tVlFddSvfqmzCzYP61yFNrm/ayx3qHXZFl9PagzFsWswycRi6D5CbSYsCvAw2bjjYzWozhSIUS8fTiW4S4Q5VqmoRCgyY3fFCK1y3Y8OGO6QsiOJg7AHJ9tvh58uxcYluZ0B0xVyB93HHhCG5twPpzpSN+b7PyApg22iZhjedIWBWlmCYz2FbEuTZCVKfRH3tBZo0nlGfJ+4BQ18LE5UZE2fc6yds2Os3Zn9sm0eTbt8Bjg7watSLsL2Fzf0s1qpryO5vYqud8FzpNmbwFsdn9MGWKNYud4qtWl1DFvt4eUaJ2MCaHyH3GHnoqNXDCZDTqqOmW4F51oDMPPKSBb07+emgtWcAiuweK8xC7t9f16A1o24f5iZglv402U2yom5E5tiw+4YIjYZ/jIPWUx2WH5sf+9NAezvN3k0dY/fLUGCg0W1LB83G4NAoEY1wFd/HwQ8rp4V68PjgKPowGRmKpUM3em0URBEwDBiSjElyn/H62gswSTxxnyeeoa+FScqMizPu9RP3+o3bn7DNI809wtLMEXa+2e0l4e0tVCob2LUAoI2tzX1k11YxhzmsrmWxv7nlDurEnSt9goczR9jpLsixsLtRQaWXPeEOjnDQzWYs7H4TuFLL299NnuLqa2+hUtkKDzhZx3iLmfA6oFOIWPMjIFdSITY11DQ9sD0wvBt5Thmo16Bp3qbQnGbc/r7Sco+RN2vQn7YwO2KYEQCQKUAtNqF1C/Zj9b6ROd7jPNDwjxkSW6+9gfNj92dQUItAdxhTQj6vAMGnjohGu2rv40wBRUVDo6Z5h0jIl4sQaw1v2UAGsgI0GhqMoX2de4xhBxIdLwmz5dkJp7zG62vP3yTxJDln1GthkjKT7498/Qgxr9+4/Wfy7yZhcb0CbFRRrex422a6l7a3tzaxP7OESnfN8iMszVSxufUA1dW5kecGy65UvN2hdThzWK0sYaNahX96dm0N2c3vuvsfZIHNzQr2vfNG1ietorq2hUq3sv54Tu+Ddrt9cv/+/bMp7TIauOcEEV0Gy8vL2N7eTnYw38fk42uBTmllZYU/bEpERETpEjHtdYlE3BEzLDhsSERERBTv+k97EdGlNNa0FxHRGeG0FxEREaUOkx8iIiJKFSY/RERElCpMfoiIiChVmPwQ0fQ5LdT9u+WeSXkddM77Jx6CdZx1/ER0rpj8ENH0CTmU1DO6bYXTQr22hyG/x342+us4y/iJ6Nwx+SEiIqJUudw3OSSidAj+ZAG8v4syzEbvJqdKUUX3p44iboCqFFUUhN52q6bBzJdRmj1EvWZDztvQdQuAgmJZxF7/TyQM/GyCg1a9Br0XgPtbS86wOhKcG6xnkvZN6ye6iK4ZJj9EdAlZ0PdklFUVAgCnVUet0YSsFpDpJikqSqHERUOzqML9fchAIuIAgAHdLkJVewnI3sj6veRFLEItZQB00NQaaMoqCpnckDqGnes+1prBH6qcvH1MgIhOj9NeRHQpKQu57i+bC7MyJNjuL6YDAESIwfU1Qg4ldXRioMhjZA3OIUxLQn7ePyeDQkz5XZ3n0C0FxeAvgi8ogGGiE4znjNtHRMlx5IeILiEp/OEfJOSwoGhoaIb7ODilNEl5URwbFkQsTLqAWRIROlUQIcGE7QCZuHgmah8RjYPJDxFdOZmCCrUA+NNRbp6goKgWcB3ShOvePqJp47QXEV1h7nSUqhahwIDZiT8jEUHsm4Yak2XiMHiuN5I01ugTgHNrH1HKMfkhoqul04SmNUPrZ+DYsP2pJEGECGt04uIdY3YzFAetp4Grq4RZyJIF/Xmnt7+uQWt2QudH1pGZR77/3D0DUORkozZx7SOiU+O0FxFdLZkC1GITmqYFNkrIdy8zz0BWgEZDg6EUoc5HFoJCOY96rQZNd7coxSKUhn8NmICce0kXutWE1t6MqiPu3NO2j4hO64N2u31y//79acdBRCmzvLyM7e3taYdBRCmzsrLCaS8iIiJKFyY/RERElCpMfoiIiChVmPwQERFRqjD5ISIiolRh8kNERESpwuSHiIiIUoXJDxEREaUKkx8iIiJKFSY/RERElCo3AOAf/uEfph0HEaUQ+x4imoYbAPDf//3f046DiFKGv+1FRNPA3/YiIiKi1GHyQ0RERKnC5IeIiIhSZXjy095CpVIJ/bfVPuParV1sVDawa12ysojognXQ1DQ0O1G7mtC0JqJ2nU8oZ1if00Jdq6PlXPC514nTQeeyPwdXIUYKuRG1sb1VweZ+FmvVKuZ6W7FVqaAys4TK+iKkCwsxIWkR69XFaUdBRHQ2hBxKam7aUUyX00K9ZkIuZ5CZdizDXIUYacDAyI+1u4HNt0uoVFcDiQ8AzGG1WsESdvANh1eIiIjoiuob+bHw6uAI2c/Xh4zsSFj8PIudzWdoL65iztrFRvUADyvrWPRP6N9m7WKjuoOjQCkzSxWsL04wdhRRVnatitW5vnrh/b32EAebveNnlipY/+RVqIzu+UR0NTgt1Gs6gl/BpHwZpZwwdL9SVFEY+rW8g6bWgOGWhHxe7KvLhFwuwS9+YFtcPGO2pRtrsB54fxdlmI3e8VK+jNLsYaiMkW1NWl9UW/0Y8iJ03fADQLmUgxA8dth+t0C06jXovWCh+sE6LdRrNuS8DV0Pf8G2ahrMoc/pOGUqKKqF8AiNE/3chp/HIXUEns/RMdJlE05+rFc4OJrBw1F5iXQbMzjAsQXE5wxtbFV3cGetinXvYGt3A9UdL3kaJ9JuclPFeijRqmBrrYrVgZiPsPPdQ1SqVUjdequoHCyFt21u4cHAKBcRXU4dNGs6xKKKUvfzrY6a/hydXAGZ7oe1ilLoA1xDMzIpcBMfO1+GmhO6jwHlbOIZdWpcrAOfoRb0PRllVYXQracGzcyHtzWakPs/4CeqL4oFXRdRVFVkvISg1hR7ycbI/V4CIRahlnqPtWYgWYEB3S5CVYPJS19CFm7U+GUOa1f/c9t9HkfVkUOpjJgY6TKKXPMzknQbd3CEYwuIXfhjSXjkJRrd0z95iJmdpMlTvzu4HSossM4nYiYu+3lvbZJb7xHuDGzzYrl0i5iI0sdoaN4ITD8vGXEEzHsfUD5hVoakm7AdeB/4IsTQAfI5gpYAACAASURBVCPWznRMGFBQ7H5qZTCfl2DoCQNOFM8oI2KNWECrLPRGUdx6LIgD27y6Iz+Ix6svilL0EysBucd5mLU9tOYzyMXtd55DtxQU/SwRAnILCvSGiU6ht15GkcdYOdM5uzIHn1vveUwYN10t4yc/AICZcBIyjCS5iUZ7C5XN/dD5D8etUlrE59kKNiteOdk1VEfOV0XFmDBuIpqKyCmbThNaw/tbENwPqE4TWiOYJkmQAUDIYUHR0NAMv8DACMAgx7YBSY5IXuxkAcfFM/Lc8WIFpHDiMnTbWdWXIAZBhAgLtgO4T8SI/QAgiaHnGoIICcFEcYz2dEM6izJjjomtg66acPIjfYKHMzujR3XaL7GPO1iTEDna0ncwtiqb2McMlirVwBqgg4mCnVutorraK9fNg7JY47QVUUr463Mk5MtqYM2N2T0iU1ChFnrHup/1EWs9LiieUS421ouvj+iy6rvaS8InD2ewv7mF6Fv6WNj9bh8zS4+SJRvtl9ifWUKlGlwQfRxasDyZOaxWq6hW15DFPl6e9f2HiOhy6pgwpDzKanBRrj3ke1gGBVWFqhahwIAZceMeQRQByw7P+Awt77TxjBIf69matL7AKA4AODZsKOjNKsXst0wc9u23+qfixnUeZU6jDrpQA5e6S4vrWMvuY7PSnwC1sVWpYgdL+LWfyXjrfw5e+W91C7vfhK/GwtEBert3sRGa/hpDewuV/pisY7zlVBZRugQ/iJwW6sHppqgbFDo27GHTGhkZCgw0undX7KAZLM+btjF7FaL1NHy11Mh4Rhk31tOKqy9JWwEYDb8Mb78ih0aNhu7PzCMvWdCf+xE4aO0ZQN/5If3TZv0mKXNccXXExUiXUuSan7nVKqoP3Ds8B2XXqqiGhnzmsFpZwka1isqOf8waspvf+QVhLVvBZrUCd/cMlipruFPdTLZgOhwUqmv9Mc1gqXtJ/RhlEdHVlCmgqGho1DS4a5Il5MtFiLWG++GTKUAtNqFpWuAkCfmhV+JkUFCLQHcKSEI+rwB6YH85j3qtBs3bphSLUBp7yeIZlcTExXrWH6axz01MW/3j80DDL2Ng3dCo/QJy7qVR6IYQu+4oA1kBGg0NRuSxk5Q5rrg64mKky+iDdrt9cv/+/WnHQUQps7y8jO3t7WmHQUnFXXYee1k60eWwsrLCHzYlIiKidJnwUvczFnHn5rDA9BYRERHRKXDai4imgtNeRDQNnPYiIiKi1GHyQ0RERKnC5IeIiIhShckPERERpQqTHyIiIkoVJj9ERESUKkx+iIiIKFWY/BAREVGqMPkhIiKiVGHyQ0RERKnyQbvdPvnqq6+mHQcRpcxPP/2EDz/8cNphEFEK8be9iGgq+NteRDQN/G0vIiIiSh0mP0RERJQqTH6IiIgoVW6EH1rY3ahi5yj64OxaFatz5x8UEaXNFPseq4025jAnjT7MadVR063AFgn5cgk54ZziouGcFuo1E/Jpn/+zKoeunBtRG2eWKlhfjOkJiIjO2IX3PdYuNqoHeFiZw/DcykGrXoOOPMpqCf5npNOqo1bTYBdVFDIXEy55hBxKam7aUdAVxmkvIqIROk0v8SnlEBwcEHIllPMSjL0WnKlFR0STiBz5idc/RJ3FWnV1xDcnIqJTsnaxUT3Gw6W32Nk5Qq/f6euPsmuo+nNk/sjO2kMcbO6gd0gVq9IuNqrutqNqBQeRo04dmAagFMOJj0/IlRAagHBaqNd0hCbH8mWUckJviqUow2z0jpHyZZRmD0PnKaHRJG/kqVuogqJaQKZbnw05b0PXrd6+UXH0O4+4vOeuqTVguKUhX5RhNmwshGKPea7yInTd8Hf2EtDAdNXsYR01HYEpSLdeu9veuDj7n4twTApH9q6lCZIfr6O5s4bqutvBWLsbqG7sorK+CE6WEdH52cfO8RqqVf+rVn9/5D6ubAUSIBxh57uHqFSrkOD1V5tbeFBdxXoF3rTXOiJn2xwbNiTIidaDdNCs6RCLKkreh6W7Tug5Ojn/w9aCviejrKoQuvtr0Mx8eFujCVktION/cItFqF6hTquOWr0VGIkyoNtFqGpmjDj6nXVcvQREzQnwExILynjPlS6iqKrd+mpNEWpfJiLkSijaGhrPO8gVMug0GzCUoldvkufP/7f2EyoVJSG4TUOTCdC1EzntdbRTRaVSCf23sevlwu1n2DnKYi2w+lBa/BzZox08a19IzER0TY3sezzZB4Ex5oH+SMLi51lg/yWC3VH2894XM+mTh5jBWxyHix1BhJgk+XEEzKvhD0lhVoYEG3ZgXkxZ6H3ouvujtnnndJ5DtxQUA4UKuQUolo7nnUCZcqDShHH0O9O4OiYMKFjojjRlMJ8PZJdJn6uinwgJyD3OQzL20IpoQ2be29dpYc8IxJXw+evp+7cWciipTHyuo7EXPFvHbwEcYbOyP3jesYXYSyaIiIaIX/A8g9v9u2duh0ecpduYwQGOLXhT8RHnjMX9QM7EJUCC4CYKnSa0hhEMCHLg78FEKmqby7FtABYamjGwT7IduBX2nZ8ojiQxTB6XAxuQ5PAaqVkZkm6PEWN/u0SIsNzkqD8uIYfHeRO1hg6lqHZHt5I9f70yFhStd6xSHBhloutjsjU/M0uc4iKi62/UBy4AdzpnD2K5hJzgr3GRkC+r7voTbyrlVKTBxdZdkSM55xTHGHE5rbiTzz5Gx3aH8gyzg0ImkLSM8fxlCirUQi8+Nw8asUaIrqyxr/aSbt8Bjg7wKvGQMRHROervj6xjHOHOKUd7fO50zbArupzWHgx/qqRjwpDcy+G7sz2OjdN0lYIoApaJw3EuJzuHOMaNy91vh5+zYAyJYrTC03SODRsK5KgspNNEw1BQVItQjAaanWRxDpdBQVWhqkUoMGBGTpHRVTb+pe5zj7A0c4Sdb3Z7L9T2FiqVDewyISKii+T3R90FhxZ2v9sHsg+SXX0q3cYdHI1c/yPkHiMPHbV6OAHyb3rYW5eC8Aet00K9MTjdMpbMPPKSBf1poO5OE5pWj1z70nXWcYwbV0aGAgN73SA7aPbHkCBGo9GEm3c4aD3VYSlyxAiMW7b775BBoaj0zhvn+es0oWl+fX5c7oL3RGu+6EqZYNpLwqJ7iQSqlR1v2wyWhl0tQUR0bnr9UaXibQpe6h5rDg+ywOZmBftDzxOQK6kQmxpqmh6quztlAwCZAoqKhkZNg97dX4RYa4yYNosjIFcqA/VaoO7AnaWjEqBziWPMuJBBQS2iqdXg7paQzyuAf2iiGCXk80BD09xzhqzB6TQb7iiSvyszj7xUQ6MpQy1kkj9/mQLUYhOaX99Am+g6+aDdbp/cv39/2nEQUcosLy9je3t72mHQRek0oe2Jw9ffBPFnJ+gcrays8A7PRER0xgamlhy09gxAFM9m4InolCa8wzMREdEQmQLKefe3z7oThbx0nC4RJj9ERHTmBn76Y7yT+cOldK447UVERESpwuSHiIiIUoXJDxEREaUKkx8iIiJKFSY/RERElCpMfoiIiChVmPwQERFRqjD5ISIiolRh8kNERESpcgMA/umf/mnacRBRCrHvIaJpuAEA//Ef/zHtOIgoZfir7kQ0DfxVdyIiIkodJj9ERESUKkx+iIiIKFVuhB9a2N2oYuco+uDsWhWrc+cfFBGlTQdNrQEUVRQy/buacHcV0L/rzDkt1Gsm5HIJOaF/Vx013QptU6LivWycDjrIICPEH0qUFjeiNs4sVbC+KF10LEREU+Sg9VSHBQly//Z6DbqloKiWeglYpwmtocHOl1Hqz5Qui24ylzn/xJHoCuG0FxERAKf1FDokDHzt6zz3Ep++kadMAeW8BMs8hHNxYRLRGYgc+YnXNz2WXUPVnw+zdrFRPcDDyjq6g0fBbdjFRvUYD5feYmfnCEAWa9VVxM+mucPiBgBAQr4ow2zYWLiIoXAiujycFuo1HcEJKCk4+hKxP3Z6ymnhqS6iWBaxVzODO9DaMyDly5H9jJArQc2NDNYbNeoGAtUPxGmhXrMh523ougUgIsHyR26KMsxGr03h9gypI/A8WDUN5mUeoSK6YBMkP17ic2cN1fW57uPKViABirWPneM1VKtJj3cTHztfhpoTuo8tKOOHT0RXWAfNmg6xqKLUzSHqqOnP0ckVkOlO86go+Z/zTgv1mobm0ATIne4SiyoyaGGvb59tAeLCJEmDl5SIRailTPex1gwkQDCg20Wo6qjMzIK+J6OsqhD89jaakNUCMiPryKFUxtA1TERpFpn8HO1UUdkJb+uuA2o/w85RFmvrfuIiYfHzLHY2X6K9OpdgBMeVfTDGyumOCQMKit13bwbzeQmGnrwIIrr8jIbmje72877oOALmvSTAJ8zKkHQTtgNv1ESEGDogh9KI4Rmn9dRNHtzcoW+nDRsSZCF0Qt/IkoR8VHLhT5f5WRoE5BYU6A0TnUJvDY4ix49dKwu5bptD7XWS1UFEYZMteJ65HZ4Xl25jBgc4tpAw+ZnB7THWUzu2DUhyRIdnJy+EiC69yOkp72ovAIAguP1ApwmtEUyTvEXKQg4LioaGZvgFBkZZIvjTXcNGXgQRIizYDtDLPgLJlDfSNJQkhvotCCIkBBM1KZyoRRcy+pjYOoio34RrfoiIpsFf+ychX1bd0Za+BCRTUKEWese6eVDEehoAzqEJC1YvWfJYNQ12UUUhI0CUANN2wGvFia6PyZKfowO8shYDC5qPcYQ7+FwCYI06cTKCKAKWjeCXLzj2eVRFRJdZx4Qh5VEu5Qb6Anng4AwKqoqClwSZnQIyfdnPwILlgfv8CJiVJej+mqJx47VMHDq53pSYY8OCiAUBg1Nsk7qIOoiumfEvdZ97hKWZI+w8a3sbLOx+tw9kH7hTXtJt3MERDl5Zvf3f7GDIfROTychQYGCv5b+TO2g2olcGENE1Z5k49LsCp4V6sC/oNKFpTXSCx3vrduKnl6IJuRKKioFGf7mdJrSaDkuSMRtVdmYeecmC/tw/y71yDIp8dtNRcXUEp+2IqGuCkR8Ji+sVYKOKSsXbFLzUHXNYrSxho9pbNJ1dW0N287tThJlBQS2iqdWg6W4M+bwCcMEzUbpkCigqGho1zXv7S8iXixBrDfcDPlOAWmxC07TASUMWJI9VrQpV7i837hJ6ATn3cit0T4tbgzS2uDoykBWg0dBgnHndRFfXB+12++T+/fvTjmN8nSa0PTE8/E1EV8by8jK2t7enHQYRpczKysoVucNzpwlNq6M76+UP7YoiEx8iIiIay/Sv9vrxKX6//i1+GHrAx/hy448o5+uodYe6cQ7Dx0RERJQG009+PnqMP/7lcYLj4m4jT0RERBTvakx7EREREZ0RJj9ERESUKkx+iIiIKFWY/BAREVGqMPkhIiKiVGHyQ0RERKnC5IeIiIhShckPERERpQqTHyIiIkqVGwAgiuK04yCiFGLfQ0TTcAMAbNuedhxElDL8VXcimoar86vuRERERGeEyQ8RERGlCpMfIiIiSpVw8vN+H09qT7D/Psmp77H/pIYnyQ4mIhpurL4HwPs3eDPNrmfceOniOS3UtTpajv+4g44z8gxKEY78ENHV8n4fT7b/BuYdNJKQQ0ktISfATYRqe+ClPeRj8kNERESpcmPonvf7eLL9Gvce3cPrZy/wztt871EZv7qboOQh59/6dBlf3H2DJ9vDynyP/SfbeOHvxD08Kv8Kd8+yzHuPUPZ3vt/Hk+13uPfpf+HFi3cA7uHevdd4jcAxAN7vP8H2u1+EthHRORjV99za777PX2zX8PrTZXyRvYn4fiP8Hn+0fAt/i+vf3u+H+hTA62uyN0fH77RQr5mQizLMhg7L2yzlyyjNHqJe621TiioKme6JaNVr0P2dUFBUC8icZZlKEaq/02mhXrMh523ougVAgaIYMBA4BoDTqqNmL4S2BRo7vPxuHb3YujHnhF6b8iJ03fB3olzKQUhyfqL2hZ8zq6bBzJexYNfQGKuddN0MT34AAO/w4m/AcrmMm/ASgGd/xV2/U4kVcf6LbdRefzqkTK8D+9kjlL9wa3i//wTbT/ax/EUWN8+kTPdx7a/B5OY1Xrx7hHLZe/wGeP3sDd786q7Xzvd48/od7v2CiQ/RxRje93yxDDc5Wv4Cbh6SpN/oe4+/38ffRvZvb/DX7Rf42aMyvuie8gTbL/4db7JJ+j8L+p6MsqrCnXWpo6bXoJn58LZGE7JaQMb/EBeLUEvuh6/TqqNWbwWSgdOW6T7WmsEPfQO6XYSqeo87gNEw0Slk4EWBQ9OCsjAi8emW30FTa6Ap+8lXB82aDrGootTNR+qo6c/RyXlJHSzouoiiqnbjrTVFL7648+Pq9wg5lMpwE6GyNw3WUYDE7aTrKHba694v/M4DuHn3Hm7hv/B+jMn2wfNHlPnm3/Hi3T08Coyu3Mz+AvfevcC/vzmrMm8i+4t7wOs3CBSJe3cD3dndu7iH13jjH/D+DV6/u4e7zH2ILkzividpvxHxBh5ax/tb+OdyeJR73P5PWeiNYAizMqTIbTZsB0DnOXRLQTHwqS3kFqBYOp53zqpMAbkFBTBMBIqEIgc+8DMyFBgw/QOcQ5iWAjky9zmEaUnIz/s7MyiogcTDETCvhhORUHx+/UU/ERKQe5yHZOy5i5Tjzo+rf5Rx2knXUszIzy3cunWa4qPOH17m+/f/BeAdntVeD5b0/j1wa/wy3d23cGvg8etAJ9Z//l3886e3sP3mDX519y7ev3mNd/d+kXC0i4hOL3nfcy79xs2bblL05q+oPXsdOicZCaKQZJvLsW0AFhqaMViS7cDNbsYr090tIrRbECHBhO3ASzj6z89gPi+hZnZQyGTgHJqwlAVE5gSODQsiFobVLwhu3Z0mtEawXRLkYfELIkRYbnKTiTk/rv6RxmgnXUsxyc8U3Po0MFTd5wIv77h59x5uvXiDN7+6hfec8iK63M6833iDv9ae4TVu4dPlsju95q1FOjf9612CLvASbWFWhqSb6BQE2KeaCnKnoQxIyJfVwFVX5gWdP9rZtZOuokt1tdfNmz8D3r0++/t39Jf57h3e4We4OWrd4s27uHfrNd7sc8qL6DI7l37jzRu8vvUplsv+uiJ4/cb5EEQRsEwcnnWS01+mN1oycrRImIUsGTBbMVNBgjgwhRXSMWFIeZT9y8279YcCDJ/v2LDh1Rl3flz9cZK2k66lS5X84O4/49Nb7/Di2X7vy9qbv6J2mpuJ+WV2J//fY/9vr4F7d2OmsW7i7r1beP3iBd7FHktEF+bmTfwM7/DOz0TOo98AwgnV+308eXaOoz6ZeeQlC/rTVm+Qp9OEFrxJ36RldhcNOWjtGYAix0zvCJiVJRi6DmvUscIs5P7y6xq0ZmBFUTD5clqoNwan9YxG01uD5KD1tK/OUecnqb97bGA6bdx20rV06mmvdy+2UXsR3uZeej5JaTeRdS/lwHa30Fv41L+qY6KOrFdmreZtuvco0SXr7tTXC/yMwz5El8hd3L0HPHtWw2vvvXzm/cbdX+HRvRqebdfwolveI7zbfuYmXadaCxlFQM69JAk1Tfe2Scj7VydNlAD1ytQ0b1P/pejDzpyVIekWxJHDITHlZwooKhoaNQ16tz1FiLWGm4R465jyeaDhFzDW+eO0LwNZARoNDUbgmGTtpOvog3a7fXL//v1px3E5efcH+UXiS/uJKKnl5WVsb29POwyK4t0DaMG/z9C51RG4/HwaLqKddOmsrKxcsmmvS+b9m9fAp//MxIeIUsU5NIH8/LVPCNLSThp0+a72ugz8O7ve+hTLX8TczZWI6Lrw76gs5VEuTWs45gKkpZ00FKe9iGgqOO1FRNPAaS8iIiJKHSY/RERElCpMfoiIiChVmPwQERFRqjD5ISIiolRh8kNERESpwuSHiIiIUoXJDxEREaUKkx8iIiJKFSY/RERElCoftNvtk6+++mracRBRyvz000/48MMPpx0GEaUQf9uLiKaCv+1FRNPA3/YiIiKi1GHyQ0RERKnC5IeIiIhSJZz8WLvYqFRQqWyhPXBoG1uVCiobu7Amra29NaRsIko1p4W6pkHTmugM7OygqWnQ6i04icuqozXs4OD+uGPH1WkOacOEnA46fmzjxnrWbSO6RoaM/LzFcX+GYx3j7bmHQ0TpZsPu/7B2bNhnWYWQQ0ktISecZaHnwGmhXtubvO1XpZ1EUxCZ/GSzd3DwKpz9WK8OcCebvZCgiCidFEWEeRjOfpxDE6KiTCkiIrqObkRuffAAd757BWtxERIAwMKrA+D2Q2C84Z82tiqb2AcAzGBp6U7ffgu7G1XsHPmPs1irrmIOcKfgqgd4uHQHOztuCZhZQmXdj4mIrh1Zhrh3CCeXgztg4eDQBEQZCA+BOGjVa9D972hKEWohEy7rsAlNN9y/pTzKJa9Mp4V6zYRcLiE3EEBfuVBQVAvIDBzn66CpNeDWIiGfF5OX58eRF6H3x+m0UK/psABYNQ1mvozSbES7AChFFf1Nx0A7vb+LMsyGDivu3KjYg8+xE12elC+jNHvYjT2+DqLpiE5+IOE2XsIC3ETDeoUDPMSvbx9jJ3HRbuLzdqmC6qLUfQz4o0de4nNnDdX1OXfL7gaqG7uBBOcIOzt3sFatYs47vrp1G9XVuQmbS0SXmwARJhzAS1QOYULGY9GG3j3G+1AWi1BLme5jrRlMgCzopoyyqkLw9tea4mCCFNJfLuC06qjVW73EKcRNfOx8GWpO6D4GlDHKs6DrIoqqikwozhxKZfSSFwFwFzwF2+WV12hCHpmg+Szoe0nP7Y/dbVtTDiYyEeXpNWhmfsL4iC7OkDU/Ej55+BYv/ZXJ1jHw8JPxRlzaL7GPLD5f9M+aw6OlmcD+Z9g5ymItkMhIi58je7SDZ4EV0dk1byQIEhZ/vYSZ/e+wO/GKayK63ATMyjZMf8WwYwPybDjx6DyHbikodj+FBeQWFMAwQwuNlQU/wRCQe5yHZOyNXvw7UC4g5BagWDqeR61g7pgwoGChu6gmg/l8oJdMWJ5S9BODZHH22gUIszKkqHVSpz3XOYRpScjP+7FnUFAHR3AGyztdfEQXZcjIDyDdvoP9l22szs2h/XIfdx6sjlWwdfwWmHkYSpikTx5iZue4tx9H2KzsD5w7c2x5Q04zuB0q4Dbu4MhdjM25L6JrSRBFGGYHhUwGHdOAKBcGD5LEcEIkiJBgwnbgJRIK5Ex4vwjL/RAesgDYsW0AFhqaMbBPsh0gIwweL8mh4oRZGZJuJytPAAAJYqiAuDj7jh/LGOc6NiyIWBh5fFR5p4mP6OIMTX4w9wDZ745hAXi5n8WDVeDMr1EftYaHoztE6ZSRoezZcACYhgK5AJzdteMxgmuDzrs8joYQTc2ImxzO4cGdA7zafYn97AOMu8pGun0HODoO5zDWMY5C+w/wamSScxS+5N46xltk8YBLfoiusQxk0cRhy4ShyNFrRSwToYvCvJGK3qhD31SLY8OOGZUQRHGw3BHc4+1wDuPY3T4vWXlWRJx9o1bTIIicrqJrbeQdnqXbwM7OPmZuTzDHNPcAWexjc8sfLmpjazMwxTX3CEszR9j5JnDTxPYWKpWN0Jqe/U3/pogWdr/ZwdEEiRgRXS2CCOi6ASkqW8nMIy9Z0LsLZxy09gwglChZ0J/6N0V00Hqqw1IWRt/zxi/3aeBmip0mtGE3CszIUGCg0fTj6KDZCExxJSzPaPg3RfTj9NoRnAK7aMIs5P7nuK5Ba17UEBzR+Ro+7QV/jQ7w8JNJFtjMYbW6BlQ24S7rmcHSUha9y8UkLK5XgI0qqhV/4wyWKutYlOBNe81gaQnYrFTc3dk1XulFlALu2hlAno3KVgTk3EuhoGnepoFL3SXkZRs1/4CoS+FHlFvT/GvLJOTLw24UmEFBLQJaA+6yHgn5vILeZWkx5Tn+OUAjMs4MZAVoNDQYShHqfEz4ZyrJc0x0dX3QbrdP7t+/P+04Bvn3+fGTISK6VpaXl7G9vT3tMKYneB8eLhImujArKyv8YVMiIiJKl5HTXkNZu9io7nQXLw8KTF8RERERXSKXd9qLiK611E97EdFUcNqLiIiIUofJDxEREaUKkx8iIiJKFSY/RERElCpMfoiIiChVmPwQERFRqjD5ISIiolRh8kNERESpwuSHiIiIUuWDdrt98tVXX007DiJKmZ9++gkffvjhtMMgohTiz1sQ0VTw5y2IaBr48xZERESUOkx+iIiIKFWY/BAREVGqhJMfaxcblQoqlS20Bw5tY6tSQWVjF9bAri1UKpXQf1v9BVi72KhsYHfgZM/7fTypPcH++wTHnieng44zhXqJUqzT1KDVW+h/6zmtOjRNg9bs9O9Bqx61PYLTQl2ro5XkfZ3k2FP2Ed02JY3ptOLaFNw/znN11qZZN6XOjejNb3FsAXNSYJN1jLcRR7a3Ktjcz2KtWsVcb6ubKM0sobK+CCnivAE3s/iinPXqShj9WXNaqNdMyOUMMlMKgSiNMrICNGw4AITuVgeHpgVFUWDYNhxkQvtsC5BkIaK0PkIOJTV3NoGeuo/o4LluQSmqKFyWTib4/DDxoJSInPbKZu/g4FU4A7FeHeBONhvetruBzbdLqFRXA4kPAMxhtVrBEnbwzVSGb4joShFESDBghgZyHNiWBHFehmKZOAx+MHdMGJAgzyZIfi4Tx4YNCeIVC5vouoke+XnwAHe+ewVr0R+1sfDqALj9EOgN/1h4dXCE7OfrQ0Z2JCx+nsXO5jO0FwPJ0astVHb23b+DI0Pv9/Fk+zXuLX+B7EBZFnY3qtg58h9nsTaQcEVx0KrXYMpllHJeb9NpQmsYoW9enaaGhi1BsixYAKyaBjMfOIeIzpcwC1nSYdoOkPHfqyYMSUZZEADJgnnoIOe9Jx3bBiQZvdzHfa/r3e9aCopqwR2d6Y7WlOCe3kFTa8AAUnawpwAAIABJREFUAEjIF2WYDRsL/vEAcNiEphvd8JSiioLQQr2mJ+gj+mJRilALGS+O3vm6vz10qhdrUYbZ0LuD4FK+jNLsYff8bkzd04fUGRRsk5RHuZRzR9KCz09cW4LPa/dcPTRYP3RUy68nL0KPiiMqznHaOeS5G3l+f3soNYZMe0m4jZewADcxsV7hAA/x69vH2PEPsV7h4GgGD0fNaUm3MYMDdwoNAHCEnYOHqFSrkLyEprp1G9XVUWmMl/jcWUN13T3O2t1AdWM3wZSagFlZgm4ewsm5b7COaUCSJNjdTtaBbQPKQsnr3IKdJBFdjCHvVbkMwd9n9ybFHNuCJD/2H7kfaGIRasn9GHNaddTqrcEPVi/xsfNlqDmh+9iCEjjGgm7KKKsqBL+sRhOyWkCpjJg+oj8W97HWLEIt5BKc79W/11e/XoNm5iNjyoysM9Mrs9smd3+tKQ4mSCPb0ve8dpMmFSW/LU4L9ZqG5tBpPQu6LqKoqt24w3EMf+4Tt7P/uRt6/qjXCV13Q672kvDJw7d46S9ato6Bh58kW7sTKuY27uAIx4GvBdnP/YRFwuKvlzCz/93ohc3tZ9g5ymItkCBJi58je7SDZ4OrsgcIszIky/amsh3YtgRZFmGZh+425xCmpUBm6k80VYIoAqH3KiB680PCrAzJMOHOinVgGr196DyHbikoBj5thdwCFEvH8/710B0TBhQsdDOPDObzgz2bstD7MBRmZUiwYSdZDzMQi4DcggJ0Y09msP4RMSWss3e+gNzjPCRjb/Ti4kTPqxiewhNyKKmj1zMpRX+kJTqOs2tn3PkjXid07Q0Z+QGk23ew/7KN1bk5tF/u486D1QmrmMHtbt+SxYPgIE8wOfpfo8+2jt8COMJmZX+w5IFV2RH84fROARnhECZkPM6JsHXT7WQPTViSzKyfaNoyMhTswXaADNwvJQvdzzkRIvz3sQ0bvX2ObQOw0NCMgSIl2wmuoO5Ol4U+r2dlSLodPOt0a3IkMdyfCCIkmF67EhUQUX9MTLF19n3BE0SIsGCHV5iHxD6vmRwWFK23P2qqbfDMvmSpP47TtnP4+fHt4adAmgxNfjD3ANnvjmEBeLmfxYNVIHT9u/QJHs7suInLsPyj/RL7uIM1Cae7gmucq8YGCBBFQDc7KMg2LFGGAAGiZMDszEM0g8PnRDQ9GchKA3uHDmZhwlIWAslCBrIC7NkOHLt/H6LXjvh4BdPkRj2vADIFFWoB8KcP3bziEq+jiWkPpceImxzO4cGdA7zafYn97IOIxcUSPnk4g/3NqHsCAYCF3e/2MbP0KHDu29AUmHv5fHBkaJB0+w5wdIBXp0ieMrIC2DZapgFFzsBfX2CYz2FbV/CKEaJrShAlWLbjrunp+wo/bJ87XdZ3NdjQ8oNTax7HPtu7a/TH4tiw+qeHzlpsnX3TdgmuOhvneQUyKKgqVLUIZeCqvVCgEXGMsezgFM/teO2h627kHZ6l28DOzj5mhmQn0uI61rL72By4KWIbW5UqdrCEXy8Gzz3Czjf+TRIt7H6zg6Ps51gcNaQz9whLM8Hz4N1UcYybIGZkKJYO3ei92QVRBAwDRvCKkeAQLBFdOGFWhmTvYc8Y/FIydF9mHnnJgv40cJPETjP6JoIZGQoM7HV3dNBsDE6DDA8wpo/wY+kuInHQ2jMART6/kZBEdQafHwetpzosZWH0hR1xz2unCU1rhtcyJUiqjIZ/jh9HwufmtM/tOK8TuvaGT3sBkD55iJkd4OEnw7OTudUqqg/cOzwHZdeqqA4MF81g6eExqv6x2bWYK70AQMLiegXYqKJa8a81m8FSZX100hTiDpkbdiDR8TpBW54NDIG6xzUaGoxE89dEdKYEEaJlwZDyeNz/ASrMQoYOfWCfgJx7GRVqmu5tk5D3r6gKfbBlUFCLaGo1uIdKyOcVQEdCcX1ELxZN8zade1+SpE4JedlGzT8gUUwxz6tQgFpsQutW2rc/koR8HmiMFcc47TxFeyhVPmi32yf379+fdhxElDLLy8vY3t6edhjut/89kWtBztvA/ZaIpmNlZYU/bEpEKTIwzeFNnYgiEx+iFBk57XXp/X//D/6P5T/hcOgBs/jN9v+N//1/u8CYiOjyyhRQztdRq2m9mS5OcROlDqe9iGgqLs20FxGlCqe9iIiIKHWY/BAREVGqMPkhIiKiVGHyQ0RERKnC5IeIiIhShckPERERpQqTHyIiIkoVJj9ERESUKkx+iIiIKFWY/BAREdH/z979hbaR93uefzfd13uSLlGJ2dlhjFlZW3En6HmaYZG9ukhCk5kL9SJiTghnNqwX3S0shGOo+77oAjG52qtHtBbPOScMOIiNbsY8OLnQxFp2yfOYdGuFrMWTw8DgTlH1xHM9NN6L0p/SP0uyZStOfV7QdFS/ql/9qqz66qvf71elSPmiVqud/PDDD/Nuh4hEzG+//caXX34572aISATpt71EZC70214iMg/6bS8RERGJHCU/IiIiEilKfkRERCRS+pKfJmXHwSk3B9dslnGcMkNKRETOaY6xx69SdIpU/YvawaTNKOI4Ds4n0JYzOd7nReEF+8fzbojIeMN7fuolhsUgEZELFdnY02Sv4mJlbWx7g5Qx7/acwbUkD3MPSV6bd0NExhua/FjpNN6bKlfxy4eIXF2RjT2+h4dJ7ComPSJX0FdDl8ZSrMUcXlaX2TjzVxCfarFAxW29tLLYmfhk5X6VYsEjkfaoVFzAImtniPdv01lOaLsKbmgvVtamZ7ci8ukaF3v8KsVCg0Qu1DsSXkbr39kEjVI3FpjpHBvLBz3xYSA2HJRxKvX2BuQ2UnRbcErsGRmvBho/POaF4pZbcKgMxMox209Sfhkx9XifF9uHLK0/JEnr3/eXONx9y8fWKkv3c9xdHHZorb9bOkZl2N9g0vZPc06GlU97/GPPz1n+JnIparXaSdfBycsffzx5eXBycuLtnfz048uTg07Ry5Mfw69P5Z3s/fTjyY8v22uH6h1a3vfa2zv56cdw+bBtTk68vZ9Ofvxp78TrbPPTyZ4X3iSo5+VkjRaRS/Tw4cPQqwljz8jrvLWsHTvaceGkFSeGLgvXGS4fE59OhsWe/njVb5KY13dcp27/CcbUj38+2f7D9smfP7b//YeTP2z/+eRjp3j75A9/eHXyH4YeXqt9nb/7Wdo/7vW4czbl8Y89P2f5m8hl+Ou//uuT0Xd7GSm+T3u8OcvMO/+AhmuSXm3nsHEydigbbu5RcS2ynQUGqTUL6o2eSY1WIpQDD2wDRmoNy62w19ko1tttbKTYsNXzI3KlnCf2tFhr3V4bYzmBOXSZh+cP28Yg9X0as/4mmHg8Uezpi1f9Jox5I13RmLr0+yTtKUDXFpe4zl84PmVCtJVt93z0/Q0man/fMU99zs5y/KeUn+VvIpdm+LBXi5FaI+a8pLq8QWqaWn0Plxhrp42YmTF6io0YJg08n9abv3f82/c8wKXk1Aer8nyIp1iznG75yK5jEfnUnTn2AP2xY/SyMIuezyAjRgwXz58g9hiT1M8EMe8UVzKmXuf69SlW7z+Hob/ByHN82jGPOWfnPn5jgvMz5d9ELs+pyQ/EWU2/obDXJJW4nAadamAcvlc8Y2NnILhttkTwntQ4qsjVc4Viz1WenR31mHrO4//sz89nbOxDDo3U96S9N1S9KWo1YgNdygPcBgfh8laWPioLNmKxwW1GCro3bTuLRZ1GJG+dFbnazhR7zqwvXoXuvpou9pxiypjXIxIx1R3yN+jrkRvY5JRjHnPOZnv8I8rP8zeXCzXBE54NUmuhGfiTMJZJmC6VzsCpT7UYeoBZfJV0f/mbOliJ0dlye5uXodtgm+XuA8GGPQhNt4+KXGFDYk9rKKTR+UTxqb7svdvmbMKxpVWntRbcUTYu9kziLDEvLCIxtV5q76/9N5ig/aOOedJzdtbjH1d+3r+5XKgxw14t8QxZq05p4vzHILWRg2IBx2kt6hkPHVd+ep0Fp9JaZpJu3/JqZLCzZZxOhX3lInL1DMSeOJlcmmKhQDsMWNksVunNOXdkkk54FNrxY0S8Ghp7JkqAzhLzptn+c4ipJuk0lIb+DU5v/9nOyTmPf+z5Oe/fXC7SF7Va7eTWrVvzboeIRMz6+jrb29vzboZ8CoY9v0nkgjx69Eg/bCoiIiLRMtmwV9iQJ1r20lCTiIiIfLqmT36MFBv29E/eEBERGUqfK3LJNOwlIiIikaLkR0RERCJFyY+IiIhEipIfERERiRQlPyIiIhIpSn5EREQkUpT8iIiISKQo+REREZFIUfIjIiIikaLkR0RERCLli1qtdvLDDz/Mux0iEjG//fYbX3755bybISIR9EWtVju5devWvNshIhGzvr7O9vb2vJshIhHz6NEjDXuJiIhItCj5ERERkUhR8iMiIiKR8lXvS59qsUDFHbaqSTq3Qcq4jGaJSLScI/b4VYqFBgnFp2j4//4d//b/bPJP/8f/jdR/O2yFv/D//h9/xy/eqArirG7+C/6bcftxX/Es/447m0+5Z56jvcf7vNg+ZGn9Iclr56hHZuqrYQvNdI6NvijiV4sUCmVidob4pTRNRKLmTLHHSLFhpy6lfXJ1/NX/8K/4F//912evwLzH0/y92TVIPikTD3sZqTUs6jSaF9kcEZFeij0iMmtDe34m09dNbWWxM+oTEpEL5FcpFjwSaY9KxQUssrkYb9rDXrSGwLIJGqUK7fBkpnNsLB9QLHSXWVmbTsjyqz1lnW1SxtB9WladOr0xz68WKXhrI+LgmHg5dv9nOKaBoUSLbLv3bNh5tDPET2vH0L/FjNsFQJOyU6Ie1EY6m6BR8lhrr2MY/NWQMzxzoWGv3/+nF2y/hW87Q1fveV3Y5S/frvMweQ04Zv/FNm8/tjde4n7uLovD6j3e58X2Wz6GFi3dz3F36MpyUSZOfprlEnUsssGVE7x5Y1nsjTjtN2s5EX6Di4icX0/s8QHqVLwstt0KNn6VNz1buFTeJMjZNgatpKRSwGmke5eVyiTsDHGalAsVYlmbjU6VRQqVPZqp9ody3z6bUC81aGbirXKfg4aLtXZK4jMyXk6y/2mPqX+frfJildxGCmPYMU3Ujn6zbldwbrx0DjtldM6Vi3XKO+TiXUs+5P7HArt/fk/y7iLvX+9yuHSfXDjx+fo+uYdBBnO8/4LtF/usP0zSM82nM/8n153/c7zPi+0Cr5UAXaqhyY9bKeBU+peGvzUc0HBN0t+3L4c4Gdu+wGaKSBSMjT3tJYnTv2VZa+0PeDCWE5gVl9jAsgaeD3EMVlsf1AwtH7LPeAKLEo1mhnicVky0GJ77jImX/oT7n+aY/D0qrkV2o9sgI7WGVSmx10yRMYYc07h2jJhMPtN20QgS3U5PU5zVtEl94D1h8FdjJrf/53//d/zbfz+4/KxzgRZ/9y3Xt//E/uIxh4dL3M+1MpX3f+btxyXuP+xmLteSv2fp7S5/fp/k7vX+mr7mWjgjupbkYS45dXvkfCae8NzD93CJsaY7K0RkhsbGnmAtYqeuMqz8lG0MI/igbpZxSvWebRIjtw8+lAuNJpl4HP+ggWutDe8dGRcvz7T/04/J9zzApeTUB8pMzyfYYd/2E7VjkjacvV0+HpiJIQlY6Natr7+eaNjr3BOe+11Lcv/bQ7Z337J0P9cZ0jo+/gvwkd3C4cAm14+P4XpvHb9fKnTXXbpPTt09c3GOOT8iIp+D9hwTk3TODm6Xb81nOU27R6OZMfBGDnld3P7HMtOhIa4+/iW2Y4p2+dVJKzH4r2aY10zq48dgps7h+/fcXQwlLde/HRziajvufbl4N0fuLrTnDQV50ClzhORCnO0hh0YMEw9v6AUkInKFNBvUzTQ5O/ScIN9j6COHwoxlEmadRjUY8ho5EjcuXp51/6c1LRYDt8HBNDH6AtoxbbuCcq83Nxtow9f8VWyGjZrU+9fsHi5xP3efpcNdXr8PFl+79jV8POT98embD1rkbi5HLnefJQ55/37WDZbTnDH5WSZhulT22vee+lSLDk5Z96KKyBUU/kD2qxRLg8MygwyWEyb1SgXXSox+/tkk8fJM+z9FfJW06VJ5We0mEs0yjlOkelpCNOt2TNuueAKLOm86jWxSHmjD19z6nyd4SOFMvef17iFL9++yyCJ37y9xuPua9wCLv+Pb6x95u7vf7eR5/5pC4QX7/QnR+9cUCq3t2o6P+QvXuT4wN0gu0hmHvQxSGzkoFnCc1iLd6i4iV1E8Q9ZyKBUcgnm1JulcllihFPTWnDK/qDPB99QJ2GPi5Tn2P8k+C50Z5KEnZQ9LgC6kHVO2izgZO0vZaU98N0mnLQhPeB54wnPwROf/+N/1zvEZNeEZDL75X/6GW1MMm71/vcvh9W9Zb49LLf6Ob69vs/t6kdzdRZIP1+HFNtuFt60Vrndviw8nQIt3yd1/TaFQCC0MrSuX5otarXZy69atebdDRCJmfX2d7e3teTfjfFrPy1nTk+8vTrOM8yY2ev6SyJQePXqkHzYVETkr/6AB6VUlPrMyMDTnU31Th1hMiY/MlO72EhGZVvtJyGaa3IY+lmcmniGXLlLoDL1xMVMq/vL/8O9++r/4zyNXmH5oTK4WJT8iItPSj6leGCO1wYWf2q//Of9i859f8E7kU6ZhLxEREYkUJT8iIiISKUp+REREJFKU/IiIiEikKPkRERGRSFHyIyIiIpGi5EdEREQiRcmPiIiIRIqSHxEREYmUL2q12skPP/ww73aISMT89ttvfPnll/NuhohEkH7VXUTm4rP4VXcRuXL0q+4iIiISOUp+REREJFKU/IiIiEikfNX70uXVszw7R8NWXeDB5lPumefco/uKZ/l33DlrXcf7vNg+ZGn9IclrM1j3+D3vWWRxXF0icoF8qsUCFXdYmUk6t0HKAPwqxUKDRPv1mXc3o3pmZdr2+E2axInP8pzMol3n2X6SdcPHLXIOXw1buPBgk6d9mYn76hn5/HNu5B+zcilNG+Fakoe55Gzq6iRHi7OpT0TOxUzn2Oj75POrRQqFMjE7Q9xIsWGn5tS6T0QnSYgTB/iUz8ks29Z/3CLnMPGwl3nvO5Ls83PtIpsjItLLSK1hUafRnHdLRORzMbTnZxz31TPyO4SGwWo839zi1yE9RiP98pzNnf3Oy+STPI87XUr9w29JnrR7nAaGst7zurDLIQDX+fb+Eoe7H/l97i6d/pz3rym8Pezsa+l+jrvX93mx/ZaPwNvtAoffrvNw7DiaiMxVaGhk+aBIoUJ3SIwmZaeE1+k96h9Ks8jamfG9Bn6VYsEjkfaoVNzQdmPq86sUCxXCI3dW1ibTXaF3eyuLnRnSmmHDP+1l2QSNUrAPt+DQSOfYWD7oW/+U/QypZ7CdQxyUcSr1yY4rfF4GjiX4GwU1maSzCRolj7XweRy2L6N7bjvH/UmMV8pVNXHyU3u+xT5JnqyAufKUJx822dqtce/xSlCWfEJ+4kk8R+y8u8NmPo9JK5naes7t/GNW2onPzSfknwbZkPvqGflnr9h8eo/ePQSJz1++XSeXvNZ5/ZGl0DofeXu4xHouxzXgeP8F27uvWczd5eE6k88fEpG5aJZL1LHIxgG/u9xIbZD1HEp7TVKZeLCelcUOJz6xLPZG8LHqV4sUilVyGynGf2zWqXhZbLv9kTymvs6HvM1GT8LiUM7aZOL92wevnfKIBGgUI8VGjt6Ewg+vMMl+XCpvEuRsG6N9HKUyiZGJoUulMWr9ac5zNzkN/kbBaxdron0NHLfIOQxNfo528mzu9C8N9b4AK/cfsJD/I69uf+DdfpIn+elmAiW/6yYy5jd3WNh5xwcXVtxddo6SPHnarc+89x3JnS12a/d4/E9Clbx/zyFL3O9kLov87tvrHL7t3dfS75O017i2uMT1t4ccH0/VXBG5BG6lgFPpXzq6xya+msYsvKGa8GjULbLtZKW5R8W1yG50tzJSa1iVEnvNFJkJPjytRGiPE9UXIxauNzzfZWB7g9SaRaXUoJmZ4RyWCfdjrXUTE2M5gVlp4PmMnEg8cn1/ivPcbARJbCdzibOaNqn3/b1H7uss50NkhIknPA8w7/E3D96R39oh+SQ/5SToBW6MqN798CtwxNbm/kDZwgcXQsnP8fFf4PoS10PrBMnNx9CS61wPryAin6xhE55PZaT4Pt2gUKpgZe3OB6TveYBLyakPbGJ6PuO7fsyeRGZsffEUa5bTLR82pGXGendrxDC5gA/2sfvpPbYJKhy5/jTn2fc8MBM9bQuSG2+ifYnM0pnm/LS5H4JJOfs/13i8MsN7wBYeDBniajn+T7Pbj4hceb4XTDapN5pk4qE0wkyPHuLyhy0c47T6gHjGxs5AezgnyAcmnGd0lc36PItcgrM/5LD2nK39JE/yT0jub/F8RneBmTduwtE7fhn6vI9e1659DR8/Eu7nGXgtIp+vZplS3SJrZ7HqJcqtO8KMWAzcBgcz+vCdrr44GdvGtrO9d6n1b+97uP1DZbNwWfthuvMSrOv1TVHymCDUi8zcGZOfGs+39kk+ecwKKzx+kmR/6zkzyX9W7vNg4Yidv3/VvShqz9ncfMar/qtkcZElDvnTfnsCz3te7x4ysWvX+JqPfFS2JHIFNSmX6ljZDHHiZLIW9VKZJkB8lbTpUnlZ7X7YNss4TpHqWRKicfU1yzhOa99tvofXHsZpb7/XXsOn+qYOVmKwV8iIEcOl0ckofKovQ3eRtcq9YccxzX5mYZrzHE9gUedNpyD4+03stOMWmdKZhr1qz7fYX3jAZnf2Mw8W8mw9v03+8XmHv0zuPd2EZ3nynVnXoadL90xUXuRu7j6vC9sU3gJc59tvl+Btf52jLLK4BLu7BQ6X7pO7q4cdilwVzXKJupkm1/5Uj6+SNguUygnsTJxUcHsQhc4M6vCToqfdm3F6fUYGO1vGcZzQNqHy0PadVUbd6k6cTC5NsdCd/G1ls1ilN53yhAWlkhPc3bY6vJ3j9zMLY85Lz3mOk7GzlJ32cZmk0xYMTHAfpe+4L+yYJAq+qNVqJ7du3Zp3O2bn/WsKf7rO+sPuHV4i8ulZX19ne3t73s2QeWqWcd7EJnz8gMhsPHr06Ir/sOn71xQKL+iMenHM/p8O4etrSnxERD4lA8NhrSG5WEyJj1y6c93tNcB9xbP8DkN/FxWY2Y+jti3eZf3bF2xvF7ojXRq+EhH59MQz5NJFCgWnO9Kl4SuZk89v2EtErgQNe4nIPFz9YS8RERGRKSn5ERERkUhR8iMiIiKRouRHREREIkXJj4iIiESKkh8RERGJFCU/IiIiEilKfkRERCRSlPyIiIhIpCj5ERERkUj5CuCf/bN/Nu92iEgEKfaIyDx8BfCP//iP826HiESMfttLROZBv+0lIiIikaPkR0RERCJFyY+IiIhEyle9L11ePcuzczRs1QUebD7lnnkZzWo53ufF9iFL6w9JXhtS/v41hV24n7vLIsDxe96zyOK1CbYVkU+IT7VYoOIOKzNJ5zZIGYBfpVhokGi/PvPuZlTPZe3fb9IkTnyW5+C8xrWjWcYpQdbOEIdP8xgksr4atnDhwSZP+7Ic99Uz8vnn3Mg/ZuVSmgZcS/Iwl5xs3U6ys3ixbRKRC2Omc2z0fRr61SKFQpmYnSFupNiwU3Nq3Zx0EoV4kER8Kudgmnb0H4PInE087GXe+44k+/xcu8jmiIj0MlJrWNRpNOfdEhH5XAzt+RnHffWM/A6hYbAazze3+HVIj1Hflrx6lufdndB6tedsbu2TfJLn8Up70SZbPCH/L/9L39DVe14XdjkE4Drffvt1sMHxPi+23/IReLtd4PDbdR62O4Dev6bw9rDTgqX7Oe6qc0jkagoNlywfFClU6A6J0aTslPA6vUf9Q2lWdwhmoE6PRNqjUnFD643Z3q9SLFQIj9RZWZtMd4Xe7a0sdmZIv8ewIaD2smyCRinYh1twaKRzbCwf9K1/yn6G1DPYzt72NhKh3rdmGadU71m/WXYokcVe9fraEZz/OgAm6XRs4Dx1j6G1y4MyTqU+4vyJXJyJk5/a8y32SfJkBcyVpzz5sMnWbo17j1eCsuQT8mMnBJl8c2eBnXe/4N67hwnUft5nYWGBXz+4sGICLh9+heR3K8B+aNsg8fnLt+vkktc6r2EpGB5bpzdROgb4yNvDJdZzOYJpQC/Y3n3NYnuOkIh88prlEnUssnHA7y43UhtkPYfSXpNUJh6sZ2Wxw4lPLIu9EXya+tUihWKV3EaKwWkmdSpeFttuf/KO2b6TsNhs9CQsDuWsTSbev33w2imPSIBGMVJs5OhNMvzwCpPsx6XyJkHOtjHax1EqkxhIBA2WEyaVxgF+KjhHzUYd0zTxPJ/WZB08D6y1OOCF/0qdxDM4/8FrsE45BpdKY5J2icze0OTnaCfP5k7/0iRPQvN9Vu4/YCH/R17d/sC7/SRP8pPNBDK/ucPCzgdcwMTlw68L3Llzs5sQub/w7ijJdyu0EpiW9+85ZIn7ndnLi/zu2+scvj19f0u/T9Le4triEtffHnJ8DGgStMgnx60UcCr9S0f02ADx1TRm4Q3VhEejbpFtJy/NPSquRXaju5WRWsOqlNhrpsgMmWRrJUJ7mGj7GLFwPeE5MAPbG6TWLCqlBs3MDOe9TLgfa62b8BnLCcxKg04+Ez6E5QRmxcMHDHw8zySRiHUTIv+Ahmux1peI0mwECWqn6yrOatqkPvC37DVpu0RmbeIJzwPMe/zNg3fkt3ZIPslPPgna/IY7Czv8XHvMivkL77jD39y7wYedn4Mu2V/ecbRwh/69Hx//Ba4vcT20LEhmPp6ys+tcv35KsYh8UoZNeD6VkeL7dINCqYKVtTsf9r7nAS4lpz6wien5DHb9mD2JzNjt4ynWLKdbPmxIy4z17saIYdL6cJ/8CMcbu599Q6xFAAAgAElEQVTeYzuVsUzCrNBoZogbBzRI8H0qhldpBLnOQQPXTAycPt/zoG95O5E6peGTt0tkxs4056fN/RDcE7//c43HK5OmPyY3bsLOzzUe3/7A0c3bmJjcWNjn59p9brw7YuHO3wwkPyIiw/heMJOl3miSiYfSCjM9YoiLvqGjEU7bHohnbOwMtId4gjxodC/V1WAQi0Gl0SST8HBjCQwMYmadRnOVWMPFTHw/8pyIXBVnf8hh7Tlb+0me5J+Q3N/i+RR3ga3cTsKvH3j18z7J2yu05wLt/7zLh6MF7nwzmPpcu/Y1fPxITz9P/2sRiZZmmVLdImtnseolyq07woxYDNwGB5MkOUNMt32cjG1j29neu9L6t/c93P6hslmY8X7iCQs8j2qj3hoKDOYC1Rt7eK5JYnmw4uB8eX3TkTyGPrZJ5BNwxuSnxvOtfZJPHrPCCo+fJNnfes7E+c/KbZJHO+zsL3CjleeYN27C/j77C3cYkvvA4iJLHLL7+n1rwXte73bv4uLaNb7mIx+VDYlERJNyqY6VzRAnTiZrUS+VaQLEV0mbLpWX1e4HcrOM4xSpTpLQjNu+WcZxWvtq8z289lBOe/u99ho+1Td1sBKDvUJGjBgujU4G41N9GbqLrFXuDWv3NPuZVDyB5Vao1LvDUkYsBvU6dTPBkNwn2IY6pXb22frb9B/j0GMQmYMzDXvVnm+xv/CAze7sZx4s5Nl6fpv840mGv1a4nYT9X0OJzsptkuzz651vRgx5LXI3dx8KuxQOIbjVfQnedssXl2B3t8Dh0n1yvzvLkYnIVdEsl6ibaXLtT/n4KmmzQKmcwM7ESQW3GFHozKAOPyl6XO3G6dsbGexsGcdxQtuEykPbd1YZdas7cTK5NMVCd7K3lc1ild50yhMWlEpOcDfb6vB2jt/PpIL91b1QotNKbrzE8oghrzgZOwud4T+TdNqCSm+dw49B5PJ9UavVTm7dujXvdohIxKyvr7O9vT3vZohIxDx69Eg/bCoiIiLRcq67vQa4r3iW32Ho76ICc/lxVBEREZGQ2SY/5j2e5u/NtEoRERGRWdKwl4iIiESKkh8RERGJFCU/IiIiEilKfkRERCRSlPyIiIhIpCj5ERERkUhR8iMiIiKRouRHREREIkXJj4iIiETKF7Va7eSHH36YdztEJGJ+++03vvzyy3k3Q0QiSL/qLiJzoV91F5F50K+6i4iISOQo+REREZFIUfIjIiIikfJV70ufarFAxR2+spnOsZEyLr5VIhIxc449zTJOCbJ2hvjF7WUov1qkUHGvfnx1X/Esv8MRSZ7kH7PSU1jj+eYW+wsP2Hx6D3NOTZzK8T4vtg9ZWn9I8tqU2051LlxePcuzczRYTfJJnscrg8vl/L4atnDoRehXKRYKlGM2mcuODiISCdGLPT4HDRfLsqhX9mimLj/5mr1f+eDCSjjDcT/w69zac0bXkjzMJc9ZyeTnYuHBJk/vhVasPWdzaxOUAF2IyYe9jBRrFtQbzQtsjohIn8859jT3qLgWidUYJnU+h0NMJm/y7pfeLjz3l3fcTJ43kbh6znUuVu7zYAF+/TCiO1TOZWjPz8T8KsVChfCfpvPNza9SLDRIZBM0St11zHSOjeWDnu2s7Of4jU5ELswZYk9vnGlSdkrUgy1Jp2P9O+gdhrOy2O2NZxjbmo06mGkMY5mEWaHSaJKJhzc4pR1nKcfqHdobch572jyufJjbt7n5x19w77WHt1x+eQc37kBvl0f/cE9oiMh9xbP8O+48ucO7rR3aqyw82OTpN7+0hpRaW/X0jPTVmXxCvl3ovuJZ/gN3HvzKzs4RkCSZ3Gef0DqA++oZ+Q/fkf+X/6U77EVrCOz+Eoe7b/nYWnfpfo67i7M4F3LZJk9+mmVKdbCy7Xd9k3KhQixrs9GJCUUKPV23LpU3CXK2jdEpL+A00r3LSmUScxhrF5ErYFaxpxNngsTHS+ewUwbtRAisVv2thCGWxd6Id1475XBiMYvY1iTIfZYxMFhOmFQqDZqZeGv9/nYE7Swn2snHtOWtNhWr5DZSGO0kLmez0R5p9KsUCw7lrE3GGFM+MmCb3OBnXAg+8N1feMcd/ubGB3Y667SSlJtPyD8NEg/31TPyz16F5gQdsfPHO2zm85jt8p08m+8e9C7bes7t/GNWBuoMXm8+Dyc3++x8eEI+33pdg/2tn6k9XmnNy3H55d0Rye9WgP2+4/rI2z/Bei7HNeB4/wXbu69ZzN1ldP4zybkYobbLDg/YvHclZkhdOUOTH7dSwKkMLu/9RmCw2rrI24zlBGalgefTudittVRnnaDcJTawrLXNFZ7rJyLnd7Gxp1XuN6hjke3MLYqzmjapt/fbGorKtjMrDFJrFpVSODGZQWxr9rYjWL9Co5khHgf8AxquSfr79h7jZGy7u/248oHjACO1hlUpsddMkTEAYsR6TmSKDTvVqn9M+Ugm39z5ld0arKwA7ge4cx+TD91VarvsHCV58rTb42Le+47kzha7tXs8bn3eJ7/rTo42v7nDws4RNweWvQvm1bj9dZrc+y7JTk9yA8nboQk0K7dJssXPtcettv7Cu6Mk360Ax4NHtvT7JO25z9cWl7j+9pDjY2DkhOgJzkXL0U6ezYGMKNlNnGSmxk94bnV7ks71ZvqGEVzkzTJOqR7emkTo37GBi37YMhGRi449rWo9D8zEkOTJC1UV6ynHiGESTq7OH9uajTpY2W6vUP/Ql+/hEmNtVJ1jyn3PA1xKTn2gzPR8iKdYs5xuef+QmTGm/BTmjZvs/1zj8coKtZ/3uXn7cU+5++FX4Iitzf7eFVj44LY+7Re4MfCpP2xZuPhGb6Jg3mCBVnI0dPsV7j9YIN9qq/vLO46S3zF8fvF1rl8/Zd8jjDsXnab3T3hu3RW29ezG1blD7goZP+xlpNjIejil/rst2mPmJumcTSro56VYaFxke0UkKj7r2BMMeUGJgdzE7e1hOhczHQxxjSiOZ2zsTNCestNuS3de0LjykVZuk/zjB1zg5/0ktx8Dtb51Trvt/RLn+Aa9Rz9Te2zyoTPkNUOTnIvhG/L4SZL9rQ/q/bkAk93tFc+QtaBeKtO5GaHZoG6mydkbdHqPfe8y37Mi8rm7gNhjxGLgesGoTlv/9m6DA7+/PDazXmu/+iYY8rJt7PB/uXT3ri8jhomH54+oZEx5cJx9xzFSMGRm21msoXedjSvvt8Ltm+/45dXP7CdvD/SkmDduwtE7fpn1B0Z/ne4Hjrh5em+R+Q13Fvb5+VUw5HV75reVn34uZD4mvtU9vhpclKVy6F0fvrD8KsXSYPeqiMh5zDz2xBNYPfU1KYe3j6+SNl0qe+1yn+qbOliJGd2UETzbZ2h9xjIJs3Vbv7FMor8dRQen3e5x5e3jeFntJnrNMo5TpOq3/x1KKgF8D689fDeufAzzBuzs7LMwLPNYuc+DhSN2/v5VN+msPWdz8xmvzpoQtevcbXeruLz64z6MTThMvrmzwP7ODkcXlJycei5GCtq/8OC+EqYLMPndXkaK79MNCpUSxViOjVSGrOVQKjgE8wRN0rkssUIp+CaieT0iMgszjz1xMnYWOsM4Jum0BZ2J1gapjRwUCzhOa9EU813G8g9ouGCtDauvfdfXG6qrG2PaMa6d3fJCZxa5STrX6jEzMtjZMk5n4ynLxwiGk+DON8M+8E3uPd2EZ3nynVm+CzzYfMo9kzMOe3Xr3NxsLUr23sZ+eluPuDn7bp9Q/aPORWDYhOfBeUAyK1/UarWTW7duzbsdIhIx6+vrbG9vz7sZIp1nAH038FMU8jl69OiRfthURESizf3lHWh4KVLO94RnERGRq6r9A6QLD9h8quGlKFHyIyIi0WTe42n+3rxbIXOgYS8RERGJFCU/IiIiEilKfkRERCRSlPyIiIhIpCj5ERERkUhR8iMiIiKRouRHREREIkXJj4iIiESKkh8RERGJlC9qtdrJDz/8MO92iEjE/Pbbb3z55ZfzboaIRJB+1V1E5kK/6i4i86BfdRcREZHIUfIjIiIikaLkR0RERCLlq2EL/WqRQsUNLTFJ5zZIGTPaq1+lWGiQmGWdInLlXXjsuRQ1nm9uwZM8j1f6i54TFD2mv2jA8T4vtg9ZWn9I8tqYdd1XPMu/487mU+6Zo9apUWOFlVHlIhEykPwEwSdG1t4g3l7YLOMUHLysTSbev4WIyPkp9vS5luRhLjmbujrJ0cr4pEskAvqGvXwOGi5WNkNPnIlnyFpQf1PFv8zWiUhEKPaIyOUZOuzleT7Ee/uZ4xkbu2eJT7VYoNNDbWWxp/1qdlDGqdQ7L60ofrsTkY5zxx6/SrHgkUh7VCouYJG1M8T7t+ksH1FnuLw9TJ9N0ChV6O52FvHK5dWzPDtH7dfJ7pDYwLBXMJy2D8ACD57c4d3WB74LD6H98pzNnf1O7ckneR6br3iW3+EIOMpv8u7BJk9Hjo2JRENf8mOQWrOolAo4FTDTOTaGDra3AkUsi70RB5qUnRLlxDTBwKXSSJCzbQxaXd6lMgm775ufiETALGNPnYqXxbbjI7ZpxZtildxGCmNsOYBL5c2s41Ur8bn5hPzTIH1xXz0j/+wVm0/v0ZueBInPrw82yd8zO6+PCA+LHbHz7g6b+Txmu66t59zOP+bpJuPnBIlEyGDPTzyDbWda4+9BIAL6vl0d0HBN0t+3L/s4GdseqGoca60dWMBYTmBWGgz54iciUTDD2GMlQilJc4+Ka5Hd6C4zUmtYlRJ7zRQZxpS34tG08Wp/a5P9oSWthKW2y85RkidPu7NwzHvfkdzZYrd2j8f/JLRJ7Wf2SfKkk7mscP/BAvs7fTV/102azG/usLDzjg8umucj0mfosBeAkdrATrVfBd+uHC8dfBPyPVxirJ0rSTGJKckRkT7njz29scX3PMCl5NQH1/R8fE4vDzKe6eNV8pS7vQDcD78CR2xtDqZICx9cCCU/7odfYeFOT29QkNx8CG/FDfXqiExkZPLTK04ml8YrNDjwU6TGbyAiMgMzij1mOjSE1cuvnl5+oTOtFx4MGeJqOf5PF7hjkWjrvdvLr1J0ilTHXexGDBMPT7dfiMgsXGDsMWIxcBscjNhmXPlFMW/chKN3/OJOuu4HelZ1P3A0agMROVVv8mOkWLNcKoX+IORTfVnBtdaCh40ZyyRMl8pes1tedHDKTUREpnaRsSe+Stp0qbwM3S7fLOO0k61x5Rdl5T4PFo7Y+ftX3aSm9pzNzWe86k+IVm6TZJ8/dgpqPN8aPqNoKPMGNzniwwSJlkgUDAx7xTM2uViRQsGhElpupnPYnbsvDFIbOSgWcJzWorPc6i4i0nJxsae7TaEzizr85Ogx5ReWAJncC27DIr/Znrm8wIP2HVnH4XVXeJx/wvPNPMGqCzx4kISd/jpHWeF2Era2NtlPPiE/MBlJJFq+qNVqJ7du3Zp3O0QkYtbX19ne3p53M66u2nM2/3hj9JwhERnq0aNH+mFTEZFP3sBwmMurP+7DzRtKfETOYMK7vabgVykWKoweWr6KP1QoIjJHK4/ZfPCMfH6zO9Kl4SuRM5t98mOk2LB1M7yIyCyZ956SvzfvVoh8HjTsJSIiIpGi5EdEREQiRcmPiIiIRIqSHxEREYkUJT8iIiISKUp+REREJFKU/IiIiEikKPkRERGRSFHyIyIiIpGi5EdEREQi5SuAL774Yt7tEJEIUuwRkXn4CuDk5GTe7RCRiFlfX2d7e3vezRCRiHn06JGGvURERCRalPyIiIhIpCj5ERERkUj5athCv1qkUHFDS0zSuQ1SxiW1SkQi6bOPPX6VYqFBYtQxNcs4JcjaGeIAfpMmceLGBNuKyMQGkp8g+MTI2hvBxQfBBVlw8LI2mXj/FiIi5xeJ2GOk2LBTk63bSXbifA6HLvIp6Rv28jlouFjZTO/FFs+QtaD+pop/ma0TkYhQ7BGRyzN02MvzfIJ+1q54xsbuWeJTLRbo9FBbWeyJvpoF2zUSOTbafbfNMk6pjhX6dtcsO5SYtE4R+RycO/b4VYoFj0Tao1JxAas1hNS3TWf5iDrD5e0emGyCRqlCd7c2mfiU8WzV6xu6alJ2StQBMEmnY6HjCPblFhwa6Rwby60dH5RxKvVOy63PpVdM5BL1JT8GqTWLSqmAUwEzHbqge7QCRSyLvRGnfQGXE5NchAbLCZNK4wA/lcIAmo06pmmGAp+P54G1pitaJBpmGXvqVLwsth0fsU1riK1YJbeRwhhbDuBSeZMgZ9sY7fJSmYSdmTKeeaFjCdrupXPYKaPzGqxgeCxHb6Lkt9rRGN4ORUuRyQ3e7RXPYNs2ubSJWyngOE7wX7nZXcc/oOGapFfbl1ucjD35tw9jOYHpeq1ubB/PM0kkYriNg2CZf0DDtUjoahaJjhnGHiscPJp7VFyLbGglI7WG5VbYa05Q3q5zrZ0ItWIYHp5/jnjWbFDHYq2T5MVZTZtjT9OodojI5IYOewEYqQ268/KCbySOlw6+CfkeLjHWznrHgbFMwqzQaGaIGwc0SPB9KoZXaQTB4qCBaybQDQ0i0XP+2GMSC5X7nge4lJz64Jqej8/p5UEg6q2zt8Fni2e+50HfcmM5gVnxGO2UdojIxEYmP73iZHJpvEKDAz/FhPcqnMIgFoNKo0km4eHGEhgYxMw6jeYqsYaLmfheyY9I5M0o9pjp0BBWL796evn4mdaKZyJXTe+wl1+l6BSpjrvYjdi5u1rjCQs8j2qj3uqiDuYC1Rt7eK5JYlmhQiQyLjD2GLEYuA0ORmwzrnwSZ4lnwX693tzK93AH1hSRWetNfowUa5ZLpdAfhHyqLyu41low8c5YJmG6VDoD4j7VYt/Y/DjxBJZboVLvduMasRjU69TNBMp9RCLkImNPfJW06VJ5GbpdvlnGaSdb48oncZZ4Fk9gUafUaXuTcik09GbEiOFqPo/IBRgY9opnbHKxIoWCQyW03OzckQBgkApuRcBxWosmvtW9sycSFtS9UGBoBQMvsawuYpGIubjY092m4LRrDj85ekz5RMnHWeJZnIydBadEMN3IJJ226B58UGep5FC3stirk7RDRCbxRa1WO7l169a82yEiEbO+vs729va8myEiEfPo0SP9sKmIiIhEy4R3e00h9GTS4T6zHyoUERGRK2X2yc80P9wnIiIicsk07CUiIiKRouRHREREIkXJj4iIiESKkh8RERGJFCU/IiIiEilKfkRERCRSlPyIiIhIpCj5ERERkUhR8iMiIiKR8hXAtWvX5t0OEYkgxR4RmYevAI6Pj+fdDhGJGP2qu4jMg37VXURERCJHyY+IiIhEipIfERERiZSvuv90efUsz87RKWsnn5B/vHJ6jcf7vNg+ZGn9IUlC/552XmPtOZtb8CT/mBX3Fc/y77iz+ZR75pT1iMgV4FMtFmgkcmykjHk35mz8Jk3ixEc1P1zuVykWGiRyG5z5cMftb5Zm0d5Z1HUR5+0yz+Nlm+XfDT6rcxVKfkzuPc1zr/3yU0o4zHs8zd8bv56IyDx0PmTixM9SPuv9zZqRYsNOXcaeLlb/ebvs83iVfWbnSsNeIiIiEilfjV9lCPcVz/I7hEfIFh5s8nRcF9H71xR2D2HpPrm7i1Pur9UL9WUr+8wmaJQquK1VzHSOjeUDioXuMitrk+mkqEG3eqVdiEXWznwWGaxINPRdw1YWu32B+8PjQm8MaFJ2StQBMElnEzRKHmudODAmRvjVnvjSqd/oLncLDo1039CdP6R8uVV2UMap1Hvriw9u19Yf54bur23aOD3q+OL0Dp8wi3Pds+PpY3P4vJlpchspOmdg0vNmWVCvDzmPp7THr1IseCTSHpWKC1hYVp06ofci4FeLFLy1nmUjj9fq3XZk+1PGhO/zU5xW94jyid7jY49t+LC2Xy1SqMRa53e68z70PTLu+MJqtdrJUB92T/713/7rk90P/QW/nPzD3/7tyT/8El71X5/87d/+w8kvJycnJx//fLL9h+2TP38c9u8/nLz6D8N3N+CXf+jWGW6Lt3fy048/nvz4096J11rV2/vp5Mehy16eHASvTvZ++vHkx5cHneq9vZ961heRy/Xw4cPQq+Aa/Wlv1BXZfw33vR4ZF9ox4ODk5Y/h+oPXE8cIb+/kpx9/OulpXmufLw9GlJ/0rxsqn7C9oeb0lo/b37g4Pa59px3fec91z76mjM0D++7ffsrzNnDck7wPestPDl6Gjr1bR3iVk76y0e2dpP2nnfth56t9fGd4T03zHh9zjQ7+XcPX/BnO+4Axxxfy13/91yfTD3u5JvfzecLzns1v7rDAr3xwR2zzcZ8X22/h23Wm6fA5jbXWzfSN5QTm0GUeng8096i4FtlQamyk1rDcCnvN2bRHRC7QwDVskFqzoN4gfAmPjgEN6lisdb4BxllNh3pAJooRMWLhL5BGig17wm/cI4xsr2+w2ld3T/k4Z4nTUx7fmc912Bljc3ffBqnv05j1N1Rncd4mbI+VCO0gnsCiTqNd7h/QcC0SQzt9Dmi4JunVdmGcTLi9E7Z/5Lk/zUR1n+M9PuYaNZYTmG6Dg/a+WucisWyc7byf6fi6ph/2Mk1MaN2NtR8qWODO0A0+8nb3LQBLM3uUvdn7Bxq5LOB7HuBScuoDZabn81lMXRf53Jkxeq5UI4ZJA8+n1f09JgaYiZ7tjeUEZsXrlp8aI1KsWU63vH+o4mwHNLK9GEbQ1mYZp1Tv2SYxUdVTxmlj2uM7+7keWHfq2NyXWBgxYrjBB1z8fOdtbHuMoK7eYw+Su0KjSSYexz9o4FprIya+e7jEWDvX3/2U981pxtU99XtgiNOuUWOZhFmhceCTShnBeTITfG+Af3CW8z7l8fU5w5yfGs83t9hngQeb+eBOsNacnFGW7udYfF9g90/7/G4xyVx+zad/XFhEJGxMjIhnbOwMtOezBHH6ouYOtufMmKRzdnCbcmu+x2Smj9OXe3whM43N5z1vY9ozonclSO4aNDMGXsPFWjvrGZtB+89R98W+B4KeoMqbA/zUMgcNFzPxPcEsK8503ntNd+6mH/aq/cz+wgM286Fb4N0PjH480HWuX4fFu/dZ+viW3f3hvyPmvnrG5rNXPROVWLjBLO6yN2IxCHe3icjV038Nt75FT/ItOIgBXm8M9b1OvJkuRgRDFbad7R3umKVmg7qZJmeHns8Sau9YU8fpsPMd37hzPbjutLG5bxjD9/DavQLnPG9n/qwwlkmYdRrVU4a8gh2cPkR13r/7aaaq+4zvgXHXaDyB5TY4aAbnqT00OpPP6CnP3dludT96xy/tGt1XPOvpVh1lkd99e52Pb3cZlv+YN2721Fv7eR9uzib5Ib5K2nSpvKx2L8hmGccpBuPEIvJpa1/DnQkAPtU3dbASk30jbc3LeNO54JuUw13j42JEs4zjlHvmF/V86IaHXoYZVz5Mz/yIKsVweyepb5o4Pe74pjHuXPese5bYHF7fp/qygmutdT/wpjlv/a/P/FlhsJwwqVcquKe9J41lEv3v46KDUw6d+dPaf16n1X3e9/hE12ichOVSKfWdp1l9Rk9x7qYf9lp5zJPkJlv5TXYAWODB5hNu5reCiXT/ZPSm15L3+fZwm7e7+yw+/K/507M87+60br3sr3fhAZtPxzxNemIGqY0cFAsUnEprmUl6Vk+9FJGZcCsFOpdoS/tW1fY17DitgqnmJMTJ2FnKTrt+k3Tags6+xsQII4OdLeN0dt5XTpyEBaWSQ31ou/rKV8c1N0PWcigVnFYTTdK5LLFCKfjwMcbsb1yc7v9WGR9zfFN9SRx3rsPOEptN0gmPQrut4eM/w3nrf31qe045D8HQl0vstEm5jHkfj23/KVWPM67uce+Bse/xya7ReCJ4xEDv5OUx74NJ3n9TnrsvarXaya1btyaoWURkdtbX19ne3p5fA5plnDcxzQW8DFE4161n0Qx/lpF8Sh49eqQnPItIBAx0obe65GOxz/fDeF4ieq79gwakV5X4XBFne8KziMhVEs+QSxcpdLrEmdHt6jIgaue6/VRhM01u43NO7z4vGvYSkbmY+7CXiESShr1EREQkcpT8iIiISKQo+REREZFIUfIjIiIikaLkR0SuPr9KsX17dfjfIiJDKPkRERGRSFHyIyIiIpGihxyKyCfCp1osUGn/GGf/g/HaD5MLbdH+3S8RkWko+RGRT0Ar8YllsTfiQJOyU6KcsAnynyblQoVY1majlQ/51SKFyh7NlH5LSUSmo+RHRObPP6DhmqS/b6cxcTK2HSo3WLXtnt+GCn5Fu4Hno+RHRKai5EdE5s/3cImxNmoEyzCCxKdZxinVQwUmiYtvnYh8ZpT8iMgVEAyD1TFJ52xSBq05QI15N0xEriAlPyIyf0YMk9YQ1rDen2aDupkmt5HqDn35Hi6o50dEpqZb3UVk/oxlEqZLZa/ZWuBTLTo45WZ3HbfBQfvBhX6VYs/wl4jI5NTzIyKfAIPURg6KBRyntSh8q3s8Q9ZyKBUcKgCYpHNZYoUSng/obncRmcIXtVrt5NatW/Nuh4hEzPr6Otvb2/NuhohEzKNHjzTsJSIiItGi5EdEREQiRcmPiIiIRIqSHxEREYkUJT8iIiISKUp+REREJFKU/IiIiEikKPkRERGRSFHyIyIiIpGi5EdEREQiRcmPiIiIRIqSHxEREYmUL2q12skPP/ww73aISMT89ttvfPnll/NuhohEkH7VXUTmQr/qLiLzoF91FxERkchR8iMiIiKRouRHREREIuWr7j99qsUCFfeUta0s9qpHsdAgkdsgZVx4+0QkEpqUnRJkbTLx/qIyQVGG/qLZ6I19ZjrHxlUPbsfvec8ii9fm3RCRT1Mo+TFIbdik2i/96vAkx/cusXkiIherWS5QiWWxN+IESViBIlc4ATre58X2IUvri/NuicgnS8NeIj0ZrvgAACAASURBVBJdfpU3dZP0artPKc5q2sRtHODPtWEicpG+Gr/KCAdlnEq989Jqd1f7VYoFj0Tao1JxAavVXd0/rGb1dWOPKx8n6DYPWmSSziZolDzWLqyrXETmwq9SLFQIj9D3DFUNKbeGDacBGCk27NSQgrBpY0tfLLOy2O2dj4yPIe2em/tLHO6+5WNr8dL9HHc7nTnH7L/Y5m23kNzdxda2wTZvtwscfrvOw6TGvkT6nTH5cak0EuRsGwPwq0UKpTKJzkVcp+Jlse32Jd0KBp2u5dY2xSq5jRTG2PJxguDkpXPYKaPz2sU62+GJyCeqSblQIZa12ejkE0UKlT2aqQzxznC9zUY7cPhVigWH8qgEqK/+vYqLld1oxZ1pY0t/LAteO+VQAjQQH4f5yNs/wXouxzXgeP8F27uvWczdZbGd+Hx9n9zDRdqJUOH1fXJ3kzxcpzXs9RDlPSLDnbnnx1rrJiXGcgKz0sDz6XyDsRKhC7u5R8W1yG50lxmpNaxKib1migxjyscFrGaDOhbZzhh90HVdr5z16ERkHuolh/rQklay4Rustr50tQ3GnxixnhUm6d0J9daYaXLtmDNtbBmIdQapNYtKqUEzEx8eH0dY+n2Sdu5ybXGJ628POT4GPv6Ztx+XuP+w3Q10jeTvl3i7+573dxfRTB+R8c6Y/Ji9wWVMue95gEvJGQxrpufjc3o58dP7fnzPAzMxJCBqcrbIVTJ0eKp1txcAhhFc580yTikcL0wSAEaKNcvpxpLwkNOpQjd8NMs4TpmsncE4S2wxY7291UYMk3ByNi5+Alzn+vXTiq9zfeB1KzkSkbHOPudnWmZ65BCWXz29XEQk0J5/Y5LO2cGdqK2hrrZ4xsbOdNcN8qAp5hDGE1iUaDQzrF7EIYjI3F3K3V5GLAZug4MRt0+MK5+sfq/37gzf47RHFonIFdRsUDfT5OzQIzhGXutxMraNbWexqNNoDqsv6OUZVgRnjC39scz3cPuH4s7r4yHvw708Hz/yka+5pjk+IhO5nFvd46ukTZfKy2o3iDTLOE6Rqj9B+dj6E1jUedNZuUm5NHzmgIhcceHkwq9SDF/rw5IZ38MbNdQUXyVt9iVGrQRrNc70saUdy/baFfpU39TBSszurtPF3/Ht9Y+8/fP71oJj9v90CEut+T7XrvE1H/n48ZQ6RCLukoa9DFIbOSgWKDjtmYIm6c4DFMeVjxMnY2cpOwWCzU3SaQs04Vnk8xLPkLUcSgWndXmbpHNZYoUSnh+U29kyjuOENjotlgSxp1p0uvOKeobgp40t3VjWacLE844mdY1kcEsXhUJrUftWdwAWWVyC3d0Chz3LRaTti1qtdnLr1q15t2P2mmWcNzHNIxL5RK2vr7O9vT3vZkxPsUXkSnv06NFn8oTngSGyVldzLKbgJCJnp9gi8lm6vLu9zuo//h3/0/r/zsHIFZb5X7f/Dbl0kUKnK5wL6GoWkciJZxRbRD5Dn37y80//Ff/m//5XE6y3wdjnmImITMlIKbaIfG4+j2EvERERkQkp+REREZFIUfIjIiIikaLkR0RERCJFyY+IiIhEipIfERERiRQlPyIiIhIpSn5EREQkUpT8iIiISKR8UavVTn744Yd5t0NEIua3337jyy+/nHczRCSCPt9fdReRT9qV/VV3EbnSPp9fdRcRERGZkJIfERERiRQlPyIiIhIpPclPs+zgFKv4fSv51SKO4+CUm/0lVIut5X6VolOk6vdt4xSpNnvLRER6NSk7DgMhBqBZxnHKDCu6VKfFuJ7Y1qR8VeKdW6PmzrsRIpfvq/CLeMKCkocPGJ2lPgcNF8uyqHsePvGeMs8FM2GAEWfDTrWWN9mruFhZm0wc8Ks0LuFgREQujJEaHeNCmuUSdUzSl97AKbmveJZ/x53NFVbm3RaRS9Y77GXEMKnT6PmK5eO5JrHVBJbb4CD8babZoI5JYtnoqQbfw8Mk1rdYROSzMDTGBb1Xpfq8GiUik+rp+cFYJmFWaHg+xFtXdbNB3UyQMwwwXRoHPqlUUOZ7HpgJlg2CLuFCg0Q2QaNUwQXcgkPFymKvXu5BichnzK9SLAQxps1M59hoxaVh5cN6aIJh+wKNRGjbZhmnVO9Zv1l2KJHFXvVGx7hMPIiVVne9CQ6EarFApd3Qdj2dY/BIpD0qFRewyNoZeg6h3XPz5A7vtnY4ai1OPsnzuNOV4/LqWZ6dbiH5xyutbYNtjvKbvHuwydN75gRtFvk89CY/GCwnTCqNA/xUCgNoNuqYiRxGu8zrDor5nouZ+J6eLz9Gio0cQZDIbZAyAN+7nKMRkc9ck3KhQixrs9HJE4oUKns0Uxni7S9hOZuNdmDyqxQLDuWBBGhEvDNNvM4XQB/PA2stDrTi2LAYBxDPYMeZMN61Ep9YFnsj3nntlEMJEHUqXhbbHsjaQo7Y+eMdNvN5TMB99Yz81nNu5x+z0k58bj4h/3SFdiK0+fwJ+cf3eLpJa9jrKcp7JGq+6l9gxGLgtuf9BBd+LBFc3cZyArPSoJmJE6dJow6xrMa2RGQ26iWH4aNGVvA/32DVtnu+cLXjkufT6hmJ9Q5H9czV6RVsG453JolErJsQ+Qc0XIu1ID+ZneYeFdci287gMEitWVRK7fgasBKnJT6B5Hf3aOcu5jd3WNh5xwcXVtxddo6SPHna7gYyufddkp2tn6k91jwfibaB5Id4Aos3rUASuvABjBgxKjSaGeKGh0eoTETknIYOTzXLOKXWvw0jSHxaw1NdJgkAI8Wa5VBy6u0KQz0pQ7SH+psZ4sYBDRJ8n4rhVRpBrnPQwDUTXMhXPDPW12sewyScxE0yb3KBG6f12izcoKfYvMECreToLG0W+UwMJj/ESVgl3hz4LNPAtdZC48xxEha88Xx8r79MROSiNSk7rbupcnZrWL3aM8cmnrGxM911gzxoyJwZAAxiMag0mmQSHm4sgYFBzKzTaK4SawwZ2heRK2/oQw6NmInr+cGcnr6vHqeViYhcqGaDupkmZ4fm2vgewx9VEydj29h2FmvgLtbQWgkLPI9qo94aZgrmAtUbe3jukLtZZ6X/7lnfw+0fsjuvo3f8Ej457geOuHl6b5FIBAxPfpYTmN4b3tQHL/zTykRELlw4afCrFMPDX8MeiDju0RvxBJZboVLvrmPEYlCvU2/fzTpr8VXSpktlr91Sn+qbOliJ2fWmr9znwcIRO7u11gKXV3/ch+TtYMjLvMFNjvighxxKBA0Z9iKY2+O61M003/df+MYyCSpUhpWJiFykeIas5VAqOFQAMEnnssQKJTw/KLezZRzHCW1kkg7flTVYKQkL6l4o0YknsKjjJZYvaMjLIBXcMkanqePmJ03N5F5wSxebm61F7VvdAVjhdhK2tjbZ71ku8vn7olarndy6dWve7RCRiFlfX2d7e3vezRCRiHn06JF+2FRERESiRcmPiIiIRIqSHxEREYkUJT8iIiISKUp+REREJFKU/IiIiEikKPkRERGRSFHyIyIiIpGi5EdEREQiRcmPiIiIRIqSHxEREYkUJT8iIiISKUp+REREJFK+qNVqJz/88MO82yEiEfPbb7/x5ZdfzrsZIhJBX9RqtZNbt27Nux0iEjHr6+tsb2/PuxkiEjGPHj3SsJeIiIhEi5IfERERiRQlPyIiIhIpX/W+dHn1LM/O0bBVF3iw+ZR75oiajvd5sX3I0vpDktdm3EoR+Yz5VIsFKu4pq1hZ7NX/v73zaW0b2/v4Z+B5AXYlNHeWxqDoUXvvJW1WTvCiEy6zcsE0UO6mEPAbGCgInjcgCPQNCAwDD7NJMIxXXaRZiNSrdMI8txhZELzsHSHVfgf3WUiW5f924jRO8/tAoZaOjn/nHOWcr8/vd84JqTseRu2QkjItm9b8+/O4af8VfOITT3iiAcF73h79wd/n9ZerEvn46OirlmudfE0bVmnLRWlv8l6swvj3ZOvra9lwHe7YtqhVx3EDQKP8FW34r2kXf/jpDT+P/dUG799ydPQr3x/9kyfTHspt87K2fQsmCoLwbaNQOrQoDT7O6oyjcEE2JQ6t0vw0s7hJ/5WKnSfT+8abktaHjn4b+W+iDTdpy7sia/MmtNm9wOeDG2BWLSpfuaKWdntpP/6DbS75v0+3aY4gCIIgCA+CKCREQ72DGaepMz8LCd7z9uhP/v7Tv3n37jOwzev/+W+8kWnjPpcnx1z0kmeK+9SeFzKZjN2nyH7tOdkUM+lfcnLco7jzhYuL3vDZ/iUnxxf0MknzOwe83M4Np7X3i1ydDtMU92sMzepy5pxyFT/Jzn6Rq9Mez1K7bmCzIAjrodPEdtvpx/RX44TboUXdccl602b+whx3e03pS0b7ioTgPW+P3vEZ+Hz0hj9+esPPf03u/etX3ry7TJNuvz7in+nU0HiIwTavp82qZ8oQODZeucZhSZlaNm3kXohRDnHdADCpWhV0fJp2g7jmNMpVA68RsmdVktmJcfdj8twsG4ZG0qo7eMbo9didoU7ksZS9NZXzBW2pjduRfS+0MrXDEtPH1BnlnJFupFx+E7vRHnmP/KZNg4xbtmrgNcbqa2uKjcx5H1myzLPsZIX6n/jOsVnXiWvL1t+ofWl6s4pV0SfebXdw/SuxtPj59OsvXLLN6ycQ1+Al7/58zdFR8ufav8RLUyci4dE+tZcFBqLirDDoPMbvQ//yhOOTSw5ebrOcy/2Ki94+tdqgN+pydnzBo/0aSZZxnhe/090eCJQeFx/hoFYjN7h/ekah9pxCYuOXnQNq27nU5h7FGWW6js2CINyMANczqFkW8ZhYx2k0McY737TDtjgc6cRtmoum2FMhVBvG//QvOTl2OBsXQNqP/PyG0RifAOAz7/74O2+OjojDgN5y9Muv/O3onzwZCJ+/vObo57j/DN6/5ejte978/CMjAQdKicMaY4OPT9NxUasWh/qgaHUc9wN+aVAPbdywimUNChoLn7Bcwyop6ecAc1A58QClVrGSTKNWHafeonY4zYYRI9kyNFyvQ1QaCI6IjheglV/EomtVe6MW52n+yzyffS/isjhNdcpgOr+co0WbLJfvtdE0jTCMSIJ5CEMw93QgnN1m0biNc97dpcu8zvpfllXqb1r6+LPdrGJVFr1Xt8tUt9fnd0e8efNm5N8vl5O/TLb/NsPD3e9y1cuz83TQSxR4Xst0Gt3fuegV2c/0IrntZxR7F/zeXd74YiHTC/XzPK2Ndky5QpE8X+j3M888GwqVkfvdLlcUeZb2dgWe7uSHD67JZkEQboa5N+xklS0DjZAwmpZSHZ1OV0ocWsvGFjwil/1Fk9vmZW3KzM8ctv8xFDLaX//OD/ybPwPg0ynvPm/zejgNFIcVfH7H6TJhBZHC7lg5ptWDaWQS+B5tTPbSEUZnt5yRWf4H3MCkmslUKe1hBi4f/MUmKVsGWuDRGXx/1MELNIwt5Xr2Xqe86XuhUHpRRmuf0xp/L1YsZ1yuMNYuRIShhmGoBF4nvhZ18AKTWaaPs/S7u2SZR+28Wf0vxarvyUR6hdKeCW2PJV6rW2XpgOcpqfh+VpJej95455Gh3/8C9Dh1ribu5ft9WGoeJU8+o03I5eKnumc4p1cj6WY+M25TvjiSOlcokk98XOuxWRCEm7FkfIBSYs+0adiJi2GVKfXcNs+KzvBvfcJlvwyz+8fgz38Dn/nlzeXEvR/+DIiXjM1BUeIBNHHBDNEwMv/P1lMUhqAZI7/MlS0DzQ2H9wmG9ZXNNYyY4T/KZoahuXidiFJJIep4BJrBCwVgdXtXL++YAFFUVIJ4cB+vh3nlHF/KNiiXX0FXOngYvCiphK4Xi5+knMtNWqwQ27JUmafYee36X46V6w9AU0frR1HR8Agj7jQY/HoxP+sgv7Nmd9EgXifPzmC6Opm+Xhtrt1kQhNtCr1hYFRi4eOL+elF8QkzheY3acxj0K7EOWmOM3w8/Tbq4lmYQu6NRrlmZmBhv4ZNzmRcns3CGIP5F7553iEpbscvFeJHkdVN711zeufFA4yioKrieT8UICVQDBQVVa+P5u6gj5Vwnq5b5Nut/jJXqb3O5nU0O8/kJd1OWXO4R9K7ozrh/LbpdrvI7HNQy+3T0eiMBi/OIbRpLn/l8KzYLgvAV0KlYFpZVxaSNt9J8e+yyr9X2KXJFdw0ubu37v8DnP/jXvH2N5uF7tLUyNSsblBoyLztFVSF130w+E9/PuE2ug25gBh4dP3YFpS62a9g7wlLPj7lwZqwiuk45dcOEMKTltRPXXBxj0/Y+EA5cS+vmOnV2W/Wf4VrvyXj6KCQYd0nfAbcjfnIFivkeF2kwTJ/LEwfnLPlceMpOvsfF6SWpluie4TgnXN5EXGTFSf+Sk9MVZn0KBYpc8TE1oMtZ9vnbslkQhPXjN7Ht5mhcwbLLartnOM4ZIzqn3+fLLLe59j1/4XMcz7MMT/b56YfPvPvf98MB6NOvvHnzlvfT8si6cAaMxHe0qDcm3RAj6AYmbc7TIBifZvYZfZeyFuD+1hoKJL+JbdfjuJlpNkx+CYYZ4DZcAtMYnV1b1d5xFj6ftT2i9ZtLYO5NBtEuKufUYhmYgYvbHr47iqpCu01bM5iqfZaqrwWsXGdrqP/Ebm+YOK7L9CtWrL9B+jQgKKJ13oZx++6AW3J75dh+eQAnxzhOcmnEbz68f+xcJNfy7Nxkd+jCc/aLDqfHDhdpfvv0jk/p9RgN/ZmeAc9r+5w5x8Qm5dnZKcLAvNuwWRCE20GvYFWb2LadubjkDrKF59T2z3DSzgvm/60/4W/b8Msvb7jcfs3R/iLjNH6Ml4hx9OZdcm3eDvo6hgmNhk3brGJVKlRNm4Zj46blqqI6jYkYl2weFatK03aw3eSZskmSAfFGkzWoOzj24GK2vsZtmD506YYJ7fZo8LJ+HXuzmS7zvEbZCHEG7T3TxkXlnGoAhgntMCN0EjEZGlszzB+rr90FZbxWmac8duP616nUytSdwXsCZrWK2RisvVu1/obp0z/Fr7ykfRbfffr06T+PHz++azs2k+4Zzse8xPkIwi1wcHDA8fHxXZvxcPGb2OfqNxG/IQir8OrVKznYNGXChdXn8uMVPMqJ8BEE4X4z4ZpI3A+qKsJHeJDc3WqvWUzZWXWUW3I1FZ5zsHPCceo245pLXAVBEDYMvUKtXMdJXR9sjPtBEO6CzRM/d3hAam77JXI2qyAI3yJK6ZD7dlaoINwW4vYSBEEQBOFBIeJHEARBEIQHhYgfQRAEQRAeFCJ+BEEQBEF4UIj4EQRhs/DjzQmz/5ozj6SIaNWT+1GL+rydeu8TkY8/3EKX5lrKFe+0f7aGIzqWJrtbdv+Sk29tR/xrtZNPc+T9bi5xwnmm7RbV4yr1vIltcivv/iQifgRB2Bj8po3dgKplYaX/qtCwseutifM1o9ZvuGqVb2rFdtSi7pwTphd0KlV19EiBec/OGCz6l6dcPNrnznbvyG3zsvYN7Yh/rXZKDhk1q+n7XTXbNKa821lWarv7XM83efdXRMSPIAgbQdSq0wjL1CZOXdepWDXKuPw2Mqr7fHChvPstKZ8Z6LuUcfkwb4rAb2I77owDK7v8fgE7T2XfsltlUTv5Xny6euad1XfLaHMPC33gbbfMu38NNm+fH0EQHiARHS/A3DucseOwQmnPxG18wC/F4ihqndPWDGoztyiOaNUd3IEaSDf1i697Ro3D9OTrJnajjVm10lkkv2nTYNZGgLPyXvJ+1KI+JlTMqkVFGV4PHBuvPLAxLr993mJXn3EchV7Bsgya9vnErf7lR67yRQ5y6QVOjq8o7he5Oh1uKpvfOeBloTuy0Wxxv5aZcehzeXLMRboLbZH92nOGw3KXM+eU+EjoPDs7j7JGxN958JJtMv8ftyl7f2X7xtmwdtIrWNYsW6cz0XYDumc4F8PDt9N66I/X7Vib7Be5Ou3xLNtus/KayobV6TUR8SMIwt0TdfACDWNez6aoaHiEEehKLJY048WMzjDpgNUq1uFQ8NjNuCPeMjRcr0NUijtT32ujaRphnDkQEYZg7s0RPmnesSujaQyE0/zvjjt/D6NmcTgwPmpRd2yaVYv4HEgPY/ywSEVNZghKiw9nHaFP96pHvlgYO6qnx8VHOKjVyAH9yxOOL45xrnZGr52eUag9pzAQPo/2qb2MR8b+5QnHJ5fJ+YfxIPtl54Dado7BoAvFVYy9gX3j3I928j+4BFqZF1PTzmm7q+IS9TC9TXojbbJsXvenTpdB3F6CINwPFBWVID6JmogwAFWd0RP6H3ADk2r6izP+9UjbwweULQMtCJM4gogw1DAMlcDrxNeiDl5gYkzVPrFQG7oudCrWcMZo0XfHqIyYrpQ4zOaxsPyr0KPXg0e5ySCQ4rPhoc25QpH81Gtf6PeB7u9c9IrsZ6YEctvPKPYu+L0LdLtcUeRZOpVT4OlOflVjr2/fOPegnaJWnUZbo/xi1ozGKm03pR6WbJNvqU6XRWZ+BEG4R2jM0juTSccO7RyZOdrC0Fw8v4KudPAweFFSCV0vFj8dj0Azpg9IUUiAyt48O+Z+d4k906Zht+N7S5+xpaBq4KWzUzclT35iHJx2Labf/wL0OHWuJu7l+336fIF8LFAG5ApF8hezT2pcp30TbHg7Ra06jhtgVq1rzGYsVw/9/jJt8u3U6SqI+BEE4e5JxEgYwUynvu/RRqW6lr5PQVXB9XwqRkigGigoqFobz99FnetSuzl6xcKqwMBtEI8FJtWJYO8NI7+TuLgm6V9+dWtundtqJ79pxzM+tesIn/vNprz74vYSBGEDUNgyNNqNWXueRLTO22jl3eU7yPEVNMmv1sHMkW6YEIa0vDamoQ9t8D4QBhrG1oxRSVHRCOdPwS/47iGx28Cyqpi08eauaFng6rtlcrlH0LuiO2NPmPh+j5F5nvHPX5MNbafY1WVStQ5vXfisvU02tE6vg4gfQRA2AqV0GO95MrHpm0/TdnAp8yIdLXRi7TKjF9Z3KWsBbro+NhZPmMZQPOkGZuDitoeuNEVVod2mrRnM0j7xLNVY3nUbe7AT46Lv9puTG9tFIeHApTcrviGbZiUKFIrwZWoQxyrZPGUn3+Pi9JI0p+4ZzmCTvEKBIlecprsodjk7nXSRAZDL8YgeV6mS6nOZWdW1FjaxnaIWv7lQri07y3HDtkva5GO6i+GcNlmGTazTayJuL0EQNga9YmEZ8Q7PWcyqhTU2WuiGSeN8uGJrFIVSvHSENKuJ+IJYQLXDjNDRDUzahMbWHJfXorwX3NcrWNXxMmqU0xUusV2Nhh1vhpc8FyVxSNNXBTG6hNixCTPL9guFIqcfu/S3p7usliPH9ssDODnm2LlIruXZSZdUF3he2wfnlDgsKM/OThEupuVV4PnBDifHxwyyKu7vUzz9eG3rJtmEdhrdViHqeAQEBI6NO2ZtdpuFLDdru7hNzpxBPc9rk2XYhDpdD999+vTpP48fP15fjoIgCEtwcHDA8fHxDXLwadrnqOPLYr9J4kE03FuwKmYmXc6cj+QP7unOv/eGKe0UtWh2tqhc+yVdc9t1z3A+5mfGbm0eN333J3n16pW4vQRBuK/o7JbJTLF/w/gfcClz/c2sCzzdgYvfv+bBXg+Qae0UhZnjGq7DDdou65YEoM/lxyt4lLsnwoc1vPvTEfEjCMK9RSm9oBw25hx8+i3g02yEc/aCWY7c9j47X06/7sGmD4rp7eR7sHfDqclrt13hOQc7cHHs4DgOjpNsUnlnB7ytynre/WmI20sQhDvh5m4vQRCE1RG3lyAIgiAIDw4RP4IgCIIgPChE/AiCIAiC8KAQ8SMIgiAIwoNCxI8gCIIgCA8KET+CIGwIyVb5dvyv3pp2dEWc5s6Xtkct6nadqSYuc/+6ab8WkY+f2uPT3DT7BOGGiPgRBGEj8JsOrlrFSg47VF1nQgBFrd9w1eradnq9NZQSh1/h4MpbIWpRd84zG/PpVKoq7m8tRP8I3woifgRBuHuiFudtjXK6javOblkj8DqZAdfng0smjfDV0Hcp4/IQNtMWHgZysKkgCHePUuLQKs1NErXOaWsGtSkHRg7T1HFclapVQU/SuMHgrplcJ5ndCDHKIa4bACam2abN6OGnUauOE+6NHYiaodPEdtvpx/RwyqhF3fEw0nPHfJp2gzilRrlq4DVC9qzM6d6z8ppeG6Nlmzi0dcH97CGo2e9ThtcDx8YrD+pXobRnYp+32NXXv9uuIHxtRPwIgrCB+HxwA8zqYTLQRnS8AM14kXxW2DI0XC97qnuSpvxiKHzUKtZhcjJ0q45Tb1E7HKRv44ZVrMFx8T60Gx5+RU8ESZyfuTdLgQS4nkHNslAG+TeaGFlBk2TctBuE5RpWSUk/B5jXyCu2a7RscX5NYyCWxu/Hn+1mIoBSYWZxOFAxUYu6Y9OsWsSHcmeFW4KiogUenah0P915gpBB3F6CIGwQg6DnBm0te5hhRBiAqg5HXWXLSAbjQZIOXqBhbCnxYYiBSTUz26GU9jCDUdeNaWSkhW5g0sbzs/mZGHO8bObecBZE2TLQCAnHA2N8jzZm5nyn2KV3rbwy5cy6CCtWZpZoouzxrA1tj2HRVdQRYVPi0FpwaraiohJMt0kQ7hky8yMIwgahUDq0KAH4TWy7OXRVTSTdwtBcvE5EqaQQdTwCzeCFAlEnBAIadnviMS2MiFWGNioAElHieD4VXY/zM/emfzfTnp9OFIagGSOuImXLQHOzZ30vl1eSIQEqe/PSa+qoa0pR0fAII9CVEnumPaybCZfZLBRUDbw4kyWNFYTNRMSPIAibiW5g0sDzK+jT1Q+lPRP3vENU2hpxi0UAWjnj4hpjxuxFLEo8/IpCONfldb/RKxZWBQYus1gHmbOFpiB8Y4jbSxCEuyeZ5Vl5MZFuYAYeHT92UQ1cS4qqQtYltizKFobWxmstdnktnaWqid0+UwAAAixJREFUQhCO6q0oHAk2XjHD2S6xAeNlT2aLJmeXYpeZZVVHXX5TmXQ9CsJ9RcSPIAh3j75LWRsbfH0vE/ejY5gQToz4OoYZ4DZcAtMYzlrou5S1YHRvGr+JvXCzvjiQuu2O5XejssWxROfpF/s0G5PuuKVRtjC0ADcNXkripAY7Pw7Knr1/3oZBeaYJzSgkHLjeZsX2ZNMIwj1H3F6CIGwACqXDWjyIN5JLY24r3TBpnGdXdw2v026PBi8n+VF3cGx3kCHlwQqmOQIodn0FqOuY9oktpGJVadoOsSka5bIJ7qLnZlqYls22k0sjcTsL7usVrGoTO72Z2JSu7oqFZqNh0848l42pEoT7znefPn36z+PHj+/aDkEQHhgHBwccHx+v8IRP0z5HHV+CvW6SPYD2bjP+xW9in6uzY5I2jni5fLi3YEWYINwDXr16JW4vQRDuCzq7ZTLunNsh6nhQ3l2f8JlwtyVuKFW9J8KHePk82a0HBOF+I24vQRDuDUrpBeW6Q9O/hRmIwa7HWpna4RpliV6hVq7jOPbQ07X08vJNwKfZCCnXKvdHrAnCAsTtJQjCnbC620sQBOHmiNtLEARBEIQHh4gfQRAEQRAeFCJ+BEEQBEF4UIj4EQRBEAThQSHiRxAEQRCEB4WIH0EQBEEQHhQifgRBEARBeFCI+BEEQRAE4UEh4kcQBEEQhAeFiB9BEARBEB4U/wXw3Xff3bUdgiA8QKTvEQThLvh/pU/wObDIL6gAAAAASUVORK5CYII=)"
      ],
      "metadata": {
        "id": "NBfRUvI2iBOV"
      }
    },
    {
      "cell_type": "code",
      "source": [
        "# Dataset Describe\n",
        "df.describe()"
      ],
      "metadata": {
        "id": "DnOaZdaE5Q5t"
      },
      "execution_count": null,
      "outputs": []
    },
    {
      "cell_type": "markdown",
      "source": [
        "Here we can see that there are some entries in px_height and sc_w which are 0 and that is not possible so we will remove all these wrong data."
      ],
      "metadata": {
        "id": "Rr86X9o9HhZN"
      }
    },
    {
      "cell_type": "markdown",
      "source": [
        "## 3. ***Data Wrangling***"
      ],
      "metadata": {
        "id": "dauF4eBmngu3"
      }
    },
    {
      "cell_type": "markdown",
      "source": [
        "### Data Wrangling Code"
      ],
      "metadata": {
        "id": "bKJF3rekwFvQ"
      }
    },
    {
      "cell_type": "code",
      "source": [
        "# Write your code to make your dataset analysis ready.\n",
        "\n",
        "# Total phones with sc_w = 0\n",
        "print(len(df[df.sc_w == 0]))\n",
        "# Total phones with px_height = 0\n",
        "print(len(df[df.px_height == 0]))"
      ],
      "metadata": {
        "id": "wk-9a2fpoLcV"
      },
      "execution_count": null,
      "outputs": []
    },
    {
      "cell_type": "code",
      "source": [
        "df['sc_w'][df[df.sc_w == 0].index] = df.sc_w.mean()\n",
        "df['px_height'][df[df.px_height == 0].index] = df.px_height.mean()"
      ],
      "metadata": {
        "id": "nNo9RX_dP1zu"
      },
      "execution_count": null,
      "outputs": []
    },
    {
      "cell_type": "code",
      "source": [
        "df.describe()"
      ],
      "metadata": {
        "id": "bERveElvP7cN"
      },
      "execution_count": null,
      "outputs": []
    },
    {
      "cell_type": "markdown",
      "source": [
        "### What all manipulations have you done and insights you found?"
      ],
      "metadata": {
        "id": "MSa1f5Uengrz"
      }
    },
    {
      "cell_type": "markdown",
      "source": [
        "Some columns have zero values we replace them by mean values."
      ],
      "metadata": {
        "id": "LbyXE7I1olp8"
      }
    },
    {
      "cell_type": "markdown",
      "source": [
        "## ***4. Data Vizualization, Storytelling & Experimenting with charts : Understand the relationships between variables***"
      ],
      "metadata": {
        "id": "GF8Ens_Soomf"
      }
    },
    {
      "cell_type": "markdown",
      "source": [
        "#### Chart - 1   Price range vs Ram"
      ],
      "metadata": {
        "id": "0wOQAZs5pc--"
      }
    },
    {
      "cell_type": "code",
      "source": [
        "# Chart - 1 visualization code\n",
        "\n",
        "sns.barplot(x=df['price_range'],y=df[\"ram\"])\n",
        "plt.title('Price range v/s Ram')"
      ],
      "metadata": {
        "id": "7v_ESjsspbW7"
      },
      "execution_count": null,
      "outputs": []
    },
    {
      "cell_type": "markdown",
      "source": [
        "##### 1. Why did you pick the specific chart?"
      ],
      "metadata": {
        "id": "K5QZ13OEpz2H"
      }
    },
    {
      "cell_type": "markdown",
      "source": [
        "Relationship between ram and Price range."
      ],
      "metadata": {
        "id": "XESiWehPqBRc"
      }
    },
    {
      "cell_type": "markdown",
      "source": [
        "##### 2. What is/are the insight(s) found from the chart?"
      ],
      "metadata": {
        "id": "lQ7QKXXCp7Bj"
      }
    },
    {
      "cell_type": "markdown",
      "source": [
        "As the ram incraeses Price is also Incraeses."
      ],
      "metadata": {
        "id": "C_j1G7yiqdRP"
      }
    },
    {
      "cell_type": "markdown",
      "source": [
        "##### 3. Will the gained insights help creating a positive business impact?\n",
        "Are there any insights that lead to negative growth? Justify with specific reason."
      ],
      "metadata": {
        "id": "448CDAPjqfQr"
      }
    },
    {
      "cell_type": "markdown",
      "source": [
        "With these factor we can decide the price range and ram to be given as per price category."
      ],
      "metadata": {
        "id": "3cspy4FjqxJW"
      }
    },
    {
      "cell_type": "markdown",
      "source": [
        "#### Chart - 2 Price Range vs Primary Camera"
      ],
      "metadata": {
        "id": "KSlN3yHqYklG"
      }
    },
    {
      "cell_type": "code",
      "source": [
        "# Chart - 2 visualization code\n",
        "sns.pointplot(y=\"pc\", x=\"price_range\", data=df)"
      ],
      "metadata": {
        "id": "R4YgtaqtYklH"
      },
      "execution_count": null,
      "outputs": []
    },
    {
      "cell_type": "markdown",
      "source": [
        "##### 1. Why did you pick the specific chart?"
      ],
      "metadata": {
        "id": "t6dVpIINYklI"
      }
    },
    {
      "cell_type": "markdown",
      "source": [
        "This chart shows realtion between Price Range and Primary camera Mega pixel."
      ],
      "metadata": {
        "id": "5aaW0BYyYklI"
      }
    },
    {
      "cell_type": "markdown",
      "source": [
        "##### 2. What is/are the insight(s) found from the chart?"
      ],
      "metadata": {
        "id": "ijmpgYnKYklI"
      }
    },
    {
      "cell_type": "markdown",
      "source": [
        "Primary camera Mega pixel price incraeses so price range also incraeses."
      ],
      "metadata": {
        "id": "PSx9atu2YklI"
      }
    },
    {
      "cell_type": "markdown",
      "source": [
        "##### 3. Will the gained insights help creating a positive business impact?\n",
        "Are there any insights that lead to negative growth? Justify with specific reason."
      ],
      "metadata": {
        "id": "-JiQyfWJYklI"
      }
    },
    {
      "cell_type": "markdown",
      "source": [
        "Primary camera Mega pixel factor can decide the price range,so we can decide Primary camera Mega pixel for every category."
      ],
      "metadata": {
        "id": "BcBbebzrYklV"
      }
    },
    {
      "cell_type": "markdown",
      "source": [
        "#### Chart - 3 Price Range vs Number of Cores"
      ],
      "metadata": {
        "id": "EM7whBJCYoAo"
      }
    },
    {
      "cell_type": "code",
      "source": [
        "# Chart - 3 visualization code\n",
        "\n",
        "\n",
        "df.groupby([\"price_range\"])['n_cores'].value_counts().unstack().plot(kind = \"bar\",figsize=(20,8))\n",
        "#plt.figure(figsize=(15,6))\n",
        "plt.title('Price range v/s no. of cores')\n",
        "plt.show()"
      ],
      "metadata": {
        "id": "t6GMdE67YoAp"
      },
      "execution_count": null,
      "outputs": []
    },
    {
      "cell_type": "markdown",
      "source": [
        "##### 1. Why did you pick the specific chart?"
      ],
      "metadata": {
        "id": "fge-S5ZAYoAp"
      }
    },
    {
      "cell_type": "markdown",
      "source": [
        "To check relation between price range and No. of cores."
      ],
      "metadata": {
        "id": "5dBItgRVYoAp"
      }
    },
    {
      "cell_type": "markdown",
      "source": [
        "##### 2. What is/are the insight(s) found from the chart?"
      ],
      "metadata": {
        "id": "85gYPyotYoAp"
      }
    },
    {
      "cell_type": "markdown",
      "source": [
        "In low range phones most mobiles have 8 cores.\n",
        "\n",
        "In medium range phones most mobiles have 1 or 4 cores.\n",
        "\n",
        "In high range phones most mobiles have 4 cores.\n",
        "\n",
        "In very high range phones most mobiles have 5 cores."
      ],
      "metadata": {
        "id": "4jstXR6OYoAp"
      }
    },
    {
      "cell_type": "markdown",
      "source": [
        "Answer Here"
      ],
      "metadata": {
        "id": "zfJ8IqMcYoAp"
      }
    },
    {
      "cell_type": "markdown",
      "source": [
        "#### Chart - 4 Internal memory vs Price range"
      ],
      "metadata": {
        "id": "4Of9eVA-YrdM"
      }
    },
    {
      "cell_type": "code",
      "source": [
        "# Chart - 4 visualization code\n",
        "\n",
        "sns.pointplot(y=\"int_memory\", x=\"price_range\", data=df)"
      ],
      "metadata": {
        "id": "irlUoxc8YrdO"
      },
      "execution_count": null,
      "outputs": []
    },
    {
      "cell_type": "markdown",
      "source": [
        "##### 1. Why did you pick the specific chart?"
      ],
      "metadata": {
        "id": "iky9q4vBYrdO"
      }
    },
    {
      "cell_type": "markdown",
      "source": [
        "To check relation between price range and Internal Memory."
      ],
      "metadata": {
        "id": "aJRCwT6DYrdO"
      }
    },
    {
      "cell_type": "markdown",
      "source": [
        "##### 2. What is/are the insight(s) found from the chart?"
      ],
      "metadata": {
        "id": "F6T5p64dYrdO"
      }
    },
    {
      "cell_type": "markdown",
      "source": [
        "When we move to high range to very high range mobile the sudden increment in internal memory can be seen."
      ],
      "metadata": {
        "id": "Xx8WAJvtYrdO"
      }
    },
    {
      "cell_type": "markdown",
      "source": [
        "##### 3. Will the gained insights help creating a positive business impact?\n",
        "Are there any insights that lead to negative growth? Justify with specific reason."
      ],
      "metadata": {
        "id": "y-Ehk30pYrdP"
      }
    },
    {
      "cell_type": "markdown",
      "source": [
        "Yes, it will help"
      ],
      "metadata": {
        "id": "jLNxxz7MYrdP"
      }
    },
    {
      "cell_type": "markdown",
      "source": [
        "\n",
        "\n",
        "#### Chart - 5   Battery Power vs Price Range"
      ],
      "metadata": {
        "id": "bamQiAODYuh1"
      }
    },
    {
      "cell_type": "code",
      "source": [
        "# Chart - 5 visualization code\n",
        "sns.pointplot(y=\"battery_power\", x=\"price_range\", data=df)"
      ],
      "metadata": {
        "id": "TIJwrbroYuh3"
      },
      "execution_count": null,
      "outputs": []
    },
    {
      "cell_type": "markdown",
      "source": [
        "##### 1. Why did you pick the specific chart?"
      ],
      "metadata": {
        "id": "QHF8YVU7Yuh3"
      }
    },
    {
      "cell_type": "markdown",
      "source": [
        "To check relation b/w price range and battery."
      ],
      "metadata": {
        "id": "dcxuIMRPYuh3"
      }
    },
    {
      "cell_type": "markdown",
      "source": [
        "##### 2. What is/are the insight(s) found from the chart?"
      ],
      "metadata": {
        "id": "GwzvFGzlYuh3"
      }
    },
    {
      "cell_type": "markdown",
      "source": [
        "Low range mobile phones have low battery capacity.\n",
        "\n",
        "Medium and high range have almost equal battery power.\n",
        "\n",
        "Very high range mobiles have high battery power."
      ],
      "metadata": {
        "id": "uyqkiB8YYuh3"
      }
    },
    {
      "cell_type": "markdown",
      "source": [
        "##### 3. Will the gained insights help creating a positive business impact?\n",
        "Are there any insights that lead to negative growth? Justify with specific reason."
      ],
      "metadata": {
        "id": "qYpmQ266Yuh3"
      }
    },
    {
      "cell_type": "markdown",
      "source": [
        "Yes, it will help."
      ],
      "metadata": {
        "id": "_WtzZ_hCYuh4"
      }
    },
    {
      "cell_type": "markdown",
      "source": [
        "#### Chart - 6 Talk Time vs Price Range\n"
      ],
      "metadata": {
        "id": "OH-pJp9IphqM"
      }
    },
    {
      "cell_type": "code",
      "source": [
        "# Chart - 6 visualization code\n",
        "sns.pointplot(y=\"talk_time\", x=\"price_range\", data=df)\n"
      ],
      "metadata": {
        "id": "kuRf4wtuphqN"
      },
      "execution_count": null,
      "outputs": []
    },
    {
      "cell_type": "markdown",
      "source": [
        "##### 1. Why did you pick the specific chart?"
      ],
      "metadata": {
        "id": "bbFf2-_FphqN"
      }
    },
    {
      "cell_type": "markdown",
      "source": [
        "To check relation between talk time and price range.."
      ],
      "metadata": {
        "id": "loh7H2nzphqN"
      }
    },
    {
      "cell_type": "markdown",
      "source": [
        "##### 2. What is/are the insight(s) found from the chart?"
      ],
      "metadata": {
        "id": "_ouA3fa0phqN"
      }
    },
    {
      "cell_type": "markdown",
      "source": [
        "*Low range phones have low talk time.\n",
        "\n",
        "*Medium range phones have highest talk time.\n",
        "\n",
        "*High and very high range phones have moderate talk time.\n",
        "\n",
        "***This result is may be due to the more features in high range phones which drains more battery that's why it is possible to have low talk time while having high battery power."
      ],
      "metadata": {
        "id": "VECbqPI7phqN"
      }
    },
    {
      "cell_type": "markdown",
      "source": [
        "##### 3. Will the gained insights help creating a positive business impact?\n",
        "Are there any insights that lead to negative growth? Justify with specific reason."
      ],
      "metadata": {
        "id": "Seke61FWphqN"
      }
    },
    {
      "cell_type": "markdown",
      "source": [
        "yes"
      ],
      "metadata": {
        "id": "DW4_bGpfphqN"
      }
    },
    {
      "cell_type": "markdown",
      "source": [
        "#### Chart - 7 Mobile Weight vs Price Range"
      ],
      "metadata": {
        "id": "PIIx-8_IphqN"
      }
    },
    {
      "cell_type": "code",
      "source": [
        "# Chart - 7 visualization code\n",
        "sns.pointplot(y=\"mobile_wt\", x=\"price_range\", data=df)"
      ],
      "metadata": {
        "id": "lqAIGUfyphqO"
      },
      "execution_count": null,
      "outputs": []
    },
    {
      "cell_type": "markdown",
      "source": [
        "##### 1. Why did you pick the specific chart?"
      ],
      "metadata": {
        "id": "t27r6nlMphqO"
      }
    },
    {
      "cell_type": "markdown",
      "source": [
        "To check the relation between mobile weight and price range."
      ],
      "metadata": {
        "id": "iv6ro40sphqO"
      }
    },
    {
      "cell_type": "markdown",
      "source": [
        "##### 2. What is/are the insight(s) found from the chart?"
      ],
      "metadata": {
        "id": "r2jJGEOYphqO"
      }
    },
    {
      "cell_type": "markdown",
      "source": [
        "*Low and Medium range have similar weight.\n",
        "\n",
        "*High range have more weight due to battery and feature incraese.\n",
        "\n",
        "*Very high range phones have very low weight."
      ],
      "metadata": {
        "id": "Po6ZPi4hphqO"
      }
    },
    {
      "cell_type": "markdown",
      "source": [
        "##### 3. Will the gained insights help creating a positive business impact?\n",
        "Are there any insights that lead to negative growth? Justify with specific reason."
      ],
      "metadata": {
        "id": "b0JNsNcRphqO"
      }
    },
    {
      "cell_type": "markdown",
      "source": [
        "yes."
      ],
      "metadata": {
        "id": "xvSq8iUTphqO"
      }
    },
    {
      "cell_type": "markdown",
      "source": [
        "#### Chart - 8 Pixel Height and Width vs Price Range"
      ],
      "metadata": {
        "id": "BZR9WyysphqO"
      }
    },
    {
      "cell_type": "code",
      "source": [
        "# Chart - 8 visualization code\n",
        "sns.pointplot(y=\"px_width\", x=\"price_range\", data=df)\n",
        "plt.show()\n",
        "sns.pointplot(y=\"px_height\", x=\"price_range\", data=df)"
      ],
      "metadata": {
        "id": "TdPTWpAVphqO"
      },
      "execution_count": null,
      "outputs": []
    },
    {
      "cell_type": "markdown",
      "source": [
        "##### 1. Why did you pick the specific chart?"
      ],
      "metadata": {
        "id": "jj7wYXLtphqO"
      }
    },
    {
      "cell_type": "markdown",
      "source": [
        "To check relation between Pixel Height and Width vs Price Range."
      ],
      "metadata": {
        "id": "Ob8u6rCTphqO"
      }
    },
    {
      "cell_type": "markdown",
      "source": [
        "##### 2. What is/are the insight(s) found from the chart?"
      ],
      "metadata": {
        "id": "eZrbJ2SmphqO"
      }
    },
    {
      "cell_type": "markdown",
      "source": [
        "*Low range phones have low pixel height and width.\n",
        "\n",
        "*Medium and high range phones have moderate pixel height and width.\n",
        "\n",
        "*Very high range phones have high pixel height and width."
      ],
      "metadata": {
        "id": "mZtgC_hjphqO"
      }
    },
    {
      "cell_type": "markdown",
      "source": [
        "##### 3. Will the gained insights help creating a positive business impact?\n",
        "Are there any insights that lead to negative growth? Justify with specific reason."
      ],
      "metadata": {
        "id": "rFu4xreNphqO"
      }
    },
    {
      "cell_type": "markdown",
      "source": [
        "yes"
      ],
      "metadata": {
        "id": "ey_0qi68phqO"
      }
    },
    {
      "cell_type": "markdown",
      "source": [
        "#### Chart - 9 Value Counts of different features"
      ],
      "metadata": {
        "id": "YJ55k-q6phqO"
      }
    },
    {
      "cell_type": "code",
      "source": [
        "# Chart - 9 visualization codefor i in [\"blue\",'dual_sim','four_g','n_cores','three_g','touch_screen','wifi','price_range']:\n",
        "for i in [\"blue\",'dual_sim','four_g','n_cores','three_g','touch_screen','wifi','price_range']:\n",
        "  df[i].value_counts().plot(kind = \"pie\",autopct='%1.1f%%')\n",
        "  plt.show()"
      ],
      "metadata": {
        "id": "B2aS4O1ophqO"
      },
      "execution_count": null,
      "outputs": []
    },
    {
      "cell_type": "markdown",
      "source": [
        "##### 1. Why did you pick the specific chart?"
      ],
      "metadata": {
        "id": "gCFgpxoyphqP"
      }
    },
    {
      "cell_type": "markdown",
      "source": [
        "To examine value counts of different features."
      ],
      "metadata": {
        "id": "TVxDimi2phqP"
      }
    },
    {
      "cell_type": "markdown",
      "source": [
        "##### 2. What is/are the insight(s) found from the chart?"
      ],
      "metadata": {
        "id": "OVtJsKN_phqQ"
      }
    },
    {
      "cell_type": "markdown",
      "source": [
        "76% phones have 3G while 24% do not and all other features are almost balanced."
      ],
      "metadata": {
        "id": "ngGi97qjphqQ"
      }
    },
    {
      "cell_type": "markdown",
      "source": [
        "##### 3. Will the gained insights help creating a positive business impact?\n",
        "Are there any insights that lead to negative growth? Justify with specific reason."
      ],
      "metadata": {
        "id": "lssrdh5qphqQ"
      }
    },
    {
      "cell_type": "markdown",
      "source": [
        "yes"
      ],
      "metadata": {
        "id": "tBpY5ekJphqQ"
      }
    },
    {
      "cell_type": "markdown",
      "source": [
        "#### Chart - 10 Front Camera and Price Range"
      ],
      "metadata": {
        "id": "U2RJ9gkRphqQ"
      }
    },
    {
      "cell_type": "code",
      "source": [
        "# Chart - 10 visualization code\n",
        "sns.pointplot(y=\"fc\", x=\"price_range\", data=df)"
      ],
      "metadata": {
        "id": "GM7a4YP4phqQ"
      },
      "execution_count": null,
      "outputs": []
    },
    {
      "cell_type": "markdown",
      "source": [
        "##### 1. Why did you pick the specific chart?"
      ],
      "metadata": {
        "id": "1M8mcRywphqQ"
      }
    },
    {
      "cell_type": "markdown",
      "source": [
        "this chart show the relation between price range and front camera pixel."
      ],
      "metadata": {
        "id": "8agQvks0phqQ"
      }
    },
    {
      "cell_type": "markdown",
      "source": [
        "##### 2. What is/are the insight(s) found from the chart?"
      ],
      "metadata": {
        "id": "tgIPom80phqQ"
      }
    },
    {
      "cell_type": "markdown",
      "source": [
        "as we move low to high pixel  is incraese when price range incraese.\n",
        "\n",
        "**When it comes to Very high range phone peoples not just want high mega pixel but also camera with good camera sensor,So may be it is low."
      ],
      "metadata": {
        "id": "Qp13pnNzphqQ"
      }
    },
    {
      "cell_type": "markdown",
      "source": [
        "##### 3. Will the gained insights help creating a positive business impact?\n",
        "Are there any insights that lead to negative growth? Justify with specific reason."
      ],
      "metadata": {
        "id": "JMzcOPDDphqR"
      }
    },
    {
      "cell_type": "markdown",
      "source": [
        "yes"
      ],
      "metadata": {
        "id": "R4Ka1PC2phqR"
      }
    },
    {
      "cell_type": "markdown",
      "source": [
        "#### Chart - 14 - Correlation Heatmap"
      ],
      "metadata": {
        "id": "NC_X3p0fY2L0"
      }
    },
    {
      "cell_type": "code",
      "source": [
        "# Correlation Heatmap visualization code\n",
        "plt.figure(figsize=(20, 15))\n",
        "sns.heatmap(df.corr(), cmap='coolwarm', annot = True)"
      ],
      "metadata": {
        "id": "xyC9zolEZNRQ"
      },
      "execution_count": null,
      "outputs": []
    },
    {
      "cell_type": "markdown",
      "source": [
        "##### 1. Why did you pick the specific chart?"
      ],
      "metadata": {
        "id": "UV0SzAkaZNRQ"
      }
    },
    {
      "cell_type": "markdown",
      "source": [
        "To check the multicollinearity."
      ],
      "metadata": {
        "id": "DVPuT8LYZNRQ"
      }
    },
    {
      "cell_type": "markdown",
      "source": [
        "##### 2. What is/are the insight(s) found from the chart?"
      ],
      "metadata": {
        "id": "YPEH6qLeZNRQ"
      }
    },
    {
      "cell_type": "markdown",
      "source": [
        "*RAM is the most influential feature in price prediction.\n",
        "\n",
        "*3G & 4G, pixel height & width, screen height & width and front camera & primary camera are correlated which is obvious.\n",
        "\n",
        "***We will merge this columns in feature manipulation section."
      ],
      "metadata": {
        "id": "bfSqtnDqZNRR"
      }
    },
    {
      "cell_type": "markdown",
      "source": [
        "#### Chart - 15 - Pair Plot"
      ],
      "metadata": {
        "id": "q29F0dvdveiT"
      }
    },
    {
      "cell_type": "code",
      "source": [
        "# Pair Plot visualization code\n",
        "sns.pairplot(df, hue=\"price_range\")"
      ],
      "metadata": {
        "id": "o58-TEIhveiU"
      },
      "execution_count": null,
      "outputs": []
    }
  ]
}